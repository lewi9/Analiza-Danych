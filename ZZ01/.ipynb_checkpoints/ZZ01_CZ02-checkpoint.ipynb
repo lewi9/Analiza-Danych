{
 "cells": [
  {
   "cell_type": "markdown",
   "id": "2d3f94e0",
   "metadata": {
    "deletable": false,
    "editable": false,
    "nbgrader": {
     "cell_type": "markdown",
     "checksum": "4d87ed846e09cbf1c8eae4e0f16bea9b",
     "grade": false,
     "grade_id": "cell-fcd2666579131b77",
     "locked": true,
     "schema_version": 3,
     "solution": false,
     "task": false
    },
    "tags": []
   },
   "source": [
    "# Analiza danych w języku Python - ćwiczenia laboratoryjne 2022/2023\n",
    "\n",
    "Ten notatnik zalicza się do grupy zestawów zadań, na podstawie których odbywa się zaliczenie ćwiczeń i podlega zwrotowi do oceny w ustalonym na zajęciach terminie.\n",
    "\n",
    "Uwagi i wytyczne ogólne dotyczące uzupełniania i oceny notatnika:\n",
    "- Podczas wykonywania zadań należy korzystać wyłącznie z pakietów zaimportowanych na początku notatnika oraz z pakietów wchodzących w skład standardowej biblioteki Pythona, które można zaimportować samodzielnie we wskazanej komórce notatnika.\n",
    "- Swoje rozwiązania należy wprowadzać wyłącznie w miejce następujących fragmentów kodu:<br/> `# YOUR CODE HERE`<br/> `raise NotImplementedError()`<br/> \n",
    "a odpowiedzi tekstowe w komórkach oznaczonych hasłem:<br/> \n",
    "`YOUR ANSWER HERE`<br/> \n",
    "Nie należy w żaden sposób modyfikować pozostałych fragmentów kodu oraz innych elementów notatnika, w szczególności dodawać lub usuwać komórek oraz zmieniać nazwy pliku.\n",
    "- Jeżeli zestaw zadań wymaga skorzystania z fragmentów kodu opracowanego w ramach wcześniejszych zestawów zadań należy je umieścić we wskazanej komórce notatnika.\n",
    "- Otrzymywane wyniki i odpowiedzi mają być rezultatem wykonania napisanego kodu, odpowiedzi uzupełniane manualnie nie podlegają ocenie.\n",
    "- Zadanie należy wykonać w taki sposób, aby podczas wykonywania kodu nie zostały wyświetlone żadne ostrzeżenia.\n",
    "- Zawarte w notatniku automatyczne testy mają charakter poglądowy. Dotyczą one wybranych aspektów zadań i mają za zadanie wyłapać podstawowe błędy. Przejście wszystkich testów nie oznacza, że zadanie jest wykonane w całości poprawnie i zostanie ocenione na maksymalną liczbę punktów.\n",
    "- Zadania, które powodują wyświetlenie komunikatu o błędzie przerywającym wykonywanie kodu nie podlegają ocenie.\n",
    "\n",
    "Uwagi i wytyczne ogólne dotyczące wizualizacji wyników:\n",
    "- Wszystkie wykresy powinny być wykonane w jednolitym, przejrzystym i czytelnym stylu, posiadać odpowiednio dobrane proporcje i zakresy wartości osi.\n",
    "- Wykresy oraz ich osie powinny mieć nadane tytuły. Jeżeli w obrębie figury znajduje się więcej niż jeden wykres to figura również powinna mieć nadany tytuł. \n",
    "- Figury powinny mieć ustawione białe tło, tak, aby niezależnie od ustawień notatnika wszystkie elementy wykresów były dobrze widoczne (domyślnie tło jest przeźroczyste co może powodować problemy w notatnikach z ustawionym ciemnym tłem).\n",
    "- Rozmiar poziomy figur nie powinien przekraczać 20 cali.\n",
    "\n",
    "Przed odesłaniem zestawu zadań do oceny proszę uzupełnić komórkę z danymi autorów rozwiązania (`NAME` - nazwa zespołu, `COLLABORATORS` - imiona, nazwiska i numery indeksów członków zespołu) oraz upewnić się, że notatnik działa zgodnie z oczekiwaniami. W tym celu należy skorzystać z opcji **Restart Kernel and Run All Cells...** dostępnej na górnej belce notatnika pod symbolem $\\blacktriangleright\\blacktriangleright$."
   ]
  },
  {
   "cell_type": "code",
   "execution_count": 10,
   "id": "1cbcf50e",
   "metadata": {},
   "outputs": [],
   "source": [
    "NAME = \"IAD25\"\n",
    "COLLABORATORS = \"Adam Lewiński 407657, Małgorzata Serwańska 405044\""
   ]
  },
  {
   "cell_type": "markdown",
   "id": "d553b607",
   "metadata": {
    "deletable": false,
    "editable": false,
    "nbgrader": {
     "cell_type": "markdown",
     "checksum": "eddc8826810e4a6f7bf68319da334bd9",
     "grade": false,
     "grade_id": "cell-109006d425e5cf83",
     "locked": true,
     "schema_version": 3,
     "solution": false,
     "task": false
    },
    "tags": []
   },
   "source": [
    "---"
   ]
  },
  {
   "cell_type": "markdown",
   "id": "3dc8b5f1-8b22-4781-876f-27826679533d",
   "metadata": {
    "deletable": false,
    "editable": false,
    "nbgrader": {
     "cell_type": "markdown",
     "checksum": "3c5f77e37ab2c4d0c80cf6045ec19c73",
     "grade": false,
     "grade_id": "cell-a12f05a1065ccf65",
     "locked": true,
     "schema_version": 3,
     "solution": false,
     "task": false
    },
    "tags": []
   },
   "source": [
    "## Zestaw zadań 1: Elementy statystyki opisowej 1 (Notatnik 2/4)"
   ]
  },
  {
   "cell_type": "code",
   "execution_count": 11,
   "id": "7f9968ab-aec5-4893-b0ad-34121d66004f",
   "metadata": {
    "deletable": false,
    "editable": false,
    "nbgrader": {
     "cell_type": "code",
     "checksum": "6a1e029ad976005b8bbf36e1fca0fca7",
     "grade": false,
     "grade_id": "cell-d7c9c710c5b409e6",
     "locked": true,
     "schema_version": 3,
     "solution": false,
     "task": false
    },
    "tags": []
   },
   "outputs": [],
   "source": [
    "import numpy as np\n",
    "import pandas as pd\n",
    "import scipy as sp\n",
    "import matplotlib as mpl\n",
    "import matplotlib.pyplot as plt\n",
    "import seaborn as sns\n",
    "import dataframe_image as dfi"
   ]
  },
  {
   "cell_type": "code",
   "execution_count": 12,
   "id": "2876bbec-f433-4b3e-8187-0184b66bcbe9",
   "metadata": {},
   "outputs": [],
   "source": [
    "# Miejsce do importu pakietów wchodzących w skład standardowej biblioteki Pythona oraz ustawienie opcji wykorzystywanych pakietów"
   ]
  },
  {
   "cell_type": "markdown",
   "id": "73cb2852-79f3-4f76-9303-a091a9be7623",
   "metadata": {
    "deletable": false,
    "editable": false,
    "nbgrader": {
     "cell_type": "markdown",
     "checksum": "2a75c36c0aa35f62ca15e7fd34e65651",
     "grade": false,
     "grade_id": "cell-7e0c91af7d9408af",
     "locked": true,
     "schema_version": 3,
     "solution": false,
     "task": false
    },
    "tags": []
   },
   "source": [
    "### Wczytanie danych\n",
    "Wczytaj dane z przygotowanego wcześniej pliku eruptions_data.csv do tablicy `eruptions_data` w taki sposób, aby kolumna Eruption Number stanowiła indeks tablicy.\n",
    "\n",
    "Wyświetl przygotowaną tablicę."
   ]
  },
  {
   "cell_type": "code",
   "execution_count": 13,
   "id": "bb86cffa-4841-45db-b09e-06fb353a4250",
   "metadata": {
    "deletable": false,
    "nbgrader": {
     "cell_type": "code",
     "checksum": "68bec47ead37b0063f7536f252c32c14",
     "grade": true,
     "grade_id": "cell-184ec13f50fb3bfe",
     "locked": false,
     "points": 0,
     "schema_version": 3,
     "solution": true,
     "task": false
    },
    "tags": []
   },
   "outputs": [
    {
     "name": "stdout",
     "output_type": "stream",
     "text": [
      "                        Volcano Name Eruption Category  VEI  Start Year  \\\n",
      "Eruption Number                                                           \n",
      "22486                       Cotopaxi         Confirmed    2        2022   \n",
      "22481                           Taal         Confirmed    1        2022   \n",
      "22458                      Turrialba         Confirmed    1        2022   \n",
      "22453                         Ulawun         Confirmed    2        2022   \n",
      "22454                          Raung         Confirmed    2        2022   \n",
      "...                              ...               ...  ...         ...   \n",
      "14556                      Tongariro         Confirmed    5       -9650   \n",
      "21101            Craters of the Moon         Confirmed    0      -10060   \n",
      "22141                   Igwisi Hills         Confirmed    1      -10450   \n",
      "22351                   Quetrupillan         Confirmed    3      -10658   \n",
      "22352                   Quetrupillan         Confirmed    3      -11345   \n",
      "\n",
      "                 Start Month  Start Day  End Year  End Month  End Day  \\\n",
      "Eruption Number                                                         \n",
      "22486                   10.0       21.0    2022.0       12.0     19.0   \n",
      "22481                   10.0        5.0    2022.0       10.0     29.0   \n",
      "22458                    7.0       17.0    2022.0        7.0     17.0   \n",
      "22453                    6.0        2.0    2022.0        6.0      2.0   \n",
      "22454                    5.0       14.0    2022.0        9.0     27.0   \n",
      "...                      ...        ...       ...        ...      ...   \n",
      "14556                    NaN        NaN       NaN        NaN      NaN   \n",
      "21101                    NaN        NaN       NaN        NaN      NaN   \n",
      "22141                    NaN        NaN       NaN        NaN      NaN   \n",
      "22351                    NaN        NaN       NaN        NaN      NaN   \n",
      "22352                    NaN        NaN       NaN        NaN      NaN   \n",
      "\n",
      "                Evidence Type       Evidence Method  \n",
      "Eruption Number                                      \n",
      "22486            Observations              Reported  \n",
      "22481            Observations              Reported  \n",
      "22458            Observations              Reported  \n",
      "22453            Observations              Reported  \n",
      "22454            Observations  Satellite (infrared)  \n",
      "...                       ...                   ...  \n",
      "14556             Correlation      Tephrochronology  \n",
      "21101                Isotopic    14C (uncalibrated)  \n",
      "22141                Isotopic   Cosmic Ray Exposure  \n",
      "22351                Isotopic      14C (calibrated)  \n",
      "22352                Isotopic      14C (calibrated)  \n",
      "\n",
      "[8285 rows x 11 columns]\n"
     ]
    }
   ],
   "source": [
    "# YOUR CODE HERE\n",
    "eruptions_data = pd.read_csv(\"eruption_data.csv\", index_col = \"Eruption Number\")\n",
    "print(eruptions_data)"
   ]
  },
  {
   "cell_type": "markdown",
   "id": "c163957b-46f6-4339-8078-1805d4b78600",
   "metadata": {
    "deletable": false,
    "editable": false,
    "nbgrader": {
     "cell_type": "markdown",
     "checksum": "a1aea1973414b6a1092c6a39fe4b808a",
     "grade": false,
     "grade_id": "cell-a370a3f8277883da",
     "locked": true,
     "schema_version": 3,
     "solution": false,
     "task": false
    },
    "tags": []
   },
   "source": [
    "### Zadanie 2: Przegląd danych - wybrane elementy [5 pkt]"
   ]
  },
  {
   "cell_type": "markdown",
   "id": "a894dac6-724c-4a05-addb-799be54a38bc",
   "metadata": {
    "deletable": false,
    "editable": false,
    "nbgrader": {
     "cell_type": "markdown",
     "checksum": "3d9404a4ba41180b7228d229700f6753",
     "grade": false,
     "grade_id": "cell-492b128cffc896e0",
     "locked": true,
     "schema_version": 3,
     "solution": false,
     "task": false
    },
    "tags": []
   },
   "source": [
    "#### a) Największe erupcje\n",
    "Przygotuj i wyświetl tablicę `big_eruptions_data` zawierającą tylko i wyłącznie wiersze tablicy `eruptions_data` dotyczące erupcji, którym została przyporządkowana wartość VEI równa 7."
   ]
  },
  {
   "cell_type": "code",
   "execution_count": 16,
   "id": "a7594c74-c087-427b-a28f-75dbc6c15b10",
   "metadata": {
    "deletable": false,
    "nbgrader": {
     "cell_type": "code",
     "checksum": "ebed1283ceea2a3af52c491bf75750e2",
     "grade": false,
     "grade_id": "cell-ae4385a252fa931d",
     "locked": false,
     "schema_version": 3,
     "solution": true,
     "task": false
    },
    "tags": []
   },
   "outputs": [
    {
     "name": "stderr",
     "output_type": "stream",
     "text": [
      "error: unknown flag `disable-gpu'\n"
     ]
    },
    {
     "ename": "FileNotFoundError",
     "evalue": "[Errno 2] No such file or directory: '/tmp/tmpspa_0fvy/temp.png'",
     "output_type": "error",
     "traceback": [
      "\u001b[0;31m---------------------------------------------------------------------------\u001b[0m",
      "\u001b[0;31mFileNotFoundError\u001b[0m                         Traceback (most recent call last)",
      "Cell \u001b[0;32mIn [16], line 4\u001b[0m\n\u001b[1;32m      2\u001b[0m big_eruptions_data \u001b[38;5;241m=\u001b[39m eruptions_data[eruptions_data[\u001b[38;5;124m\"\u001b[39m\u001b[38;5;124mVEI\u001b[39m\u001b[38;5;124m\"\u001b[39m] \u001b[38;5;241m==\u001b[39m \u001b[38;5;241m7\u001b[39m]\n\u001b[1;32m      3\u001b[0m df_styled \u001b[38;5;241m=\u001b[39m big_eruptions_data\u001b[38;5;241m.\u001b[39mstyle\u001b[38;5;241m.\u001b[39mformat(precision\u001b[38;5;241m=\u001b[39m\u001b[38;5;241m0\u001b[39m)\n\u001b[0;32m----> 4\u001b[0m \u001b[43mdfi\u001b[49m\u001b[38;5;241;43m.\u001b[39;49m\u001b[43mexport\u001b[49m\u001b[43m(\u001b[49m\u001b[43mdf_styled\u001b[49m\u001b[43m,\u001b[49m\u001b[43m \u001b[49m\u001b[38;5;124;43m'\u001b[39;49m\u001b[38;5;124;43mnajwiekszeErupcje.png\u001b[39;49m\u001b[38;5;124;43m'\u001b[39;49m\u001b[43m)\u001b[49m\n\u001b[1;32m      5\u001b[0m display(df_styled)\n",
      "File \u001b[0;32m~/.local/lib/python3.10/site-packages/dataframe_image/_pandas_accessor.py:48\u001b[0m, in \u001b[0;36mexport\u001b[0;34m(obj, filename, fontsize, max_rows, max_cols, table_conversion, chrome_path, dpi)\u001b[0m\n\u001b[1;32m     38\u001b[0m \u001b[38;5;28;01mdef\u001b[39;00m \u001b[38;5;21mexport\u001b[39m(\n\u001b[1;32m     39\u001b[0m     obj,\n\u001b[1;32m     40\u001b[0m     filename,\n\u001b[0;32m   (...)\u001b[0m\n\u001b[1;32m     46\u001b[0m     dpi\u001b[38;5;241m=\u001b[39m\u001b[38;5;28;01mNone\u001b[39;00m\n\u001b[1;32m     47\u001b[0m ):\n\u001b[0;32m---> 48\u001b[0m     \u001b[38;5;28;01mreturn\u001b[39;00m \u001b[43m_export\u001b[49m\u001b[43m(\u001b[49m\n\u001b[1;32m     49\u001b[0m \u001b[43m        \u001b[49m\u001b[43mobj\u001b[49m\u001b[43m,\u001b[49m\u001b[43m \u001b[49m\u001b[43mfilename\u001b[49m\u001b[43m,\u001b[49m\u001b[43m \u001b[49m\u001b[43mfontsize\u001b[49m\u001b[43m,\u001b[49m\u001b[43m \u001b[49m\u001b[43mmax_rows\u001b[49m\u001b[43m,\u001b[49m\u001b[43m \u001b[49m\u001b[43mmax_cols\u001b[49m\u001b[43m,\u001b[49m\u001b[43m \u001b[49m\u001b[43mtable_conversion\u001b[49m\u001b[43m,\u001b[49m\u001b[43m \u001b[49m\u001b[43mchrome_path\u001b[49m\u001b[43m,\u001b[49m\u001b[43m \u001b[49m\u001b[43mdpi\u001b[49m\n\u001b[1;32m     50\u001b[0m \u001b[43m   \u001b[49m\u001b[43m)\u001b[49m\n",
      "File \u001b[0;32m~/.local/lib/python3.10/site-packages/dataframe_image/_pandas_accessor.py:117\u001b[0m, in \u001b[0;36m_export\u001b[0;34m(obj, filename, fontsize, max_rows, max_cols, table_conversion, chrome_path, dpi)\u001b[0m\n\u001b[1;32m    114\u001b[0m \u001b[38;5;28;01melse\u001b[39;00m:\n\u001b[1;32m    115\u001b[0m     html \u001b[38;5;241m=\u001b[39m obj\u001b[38;5;241m.\u001b[39mto_html(max_rows\u001b[38;5;241m=\u001b[39mmax_rows, max_cols\u001b[38;5;241m=\u001b[39mmax_cols, notebook\u001b[38;5;241m=\u001b[39m\u001b[38;5;28;01mTrue\u001b[39;00m)\n\u001b[0;32m--> 117\u001b[0m img_str \u001b[38;5;241m=\u001b[39m \u001b[43mconverter\u001b[49m\u001b[43m(\u001b[49m\u001b[43mhtml\u001b[49m\u001b[43m)\u001b[49m\n\u001b[1;32m    119\u001b[0m \u001b[38;5;28;01mif\u001b[39;00m \u001b[38;5;28misinstance\u001b[39m(filename, \u001b[38;5;28mstr\u001b[39m):\n\u001b[1;32m    120\u001b[0m     \u001b[38;5;28mopen\u001b[39m(filename, \u001b[38;5;124m\"\u001b[39m\u001b[38;5;124mwb\u001b[39m\u001b[38;5;124m\"\u001b[39m)\u001b[38;5;241m.\u001b[39mwrite(img_str)\n",
      "File \u001b[0;32m~/.local/lib/python3.10/site-packages/dataframe_image/_screenshot.py:187\u001b[0m, in \u001b[0;36mScreenshot.run\u001b[0;34m(self, html)\u001b[0m\n\u001b[1;32m    185\u001b[0m \u001b[38;5;28;01mdef\u001b[39;00m \u001b[38;5;21mrun\u001b[39m(\u001b[38;5;28mself\u001b[39m, html):\n\u001b[1;32m    186\u001b[0m     \u001b[38;5;28mself\u001b[39m\u001b[38;5;241m.\u001b[39mhtml \u001b[38;5;241m=\u001b[39m \u001b[38;5;28mself\u001b[39m\u001b[38;5;241m.\u001b[39mcss \u001b[38;5;241m+\u001b[39m html\n\u001b[0;32m--> 187\u001b[0m     img \u001b[38;5;241m=\u001b[39m \u001b[38;5;28;43mself\u001b[39;49m\u001b[38;5;241;43m.\u001b[39;49m\u001b[43mtake_screenshot\u001b[49m\u001b[43m(\u001b[49m\u001b[43m)\u001b[49m\n\u001b[1;32m    188\u001b[0m     img_str \u001b[38;5;241m=\u001b[39m \u001b[38;5;28mself\u001b[39m\u001b[38;5;241m.\u001b[39mfinalize_image(img)\n\u001b[1;32m    189\u001b[0m     \u001b[38;5;28;01mreturn\u001b[39;00m img_str\n",
      "File \u001b[0;32m~/.local/lib/python3.10/site-packages/dataframe_image/_screenshot.py:135\u001b[0m, in \u001b[0;36mScreenshot.take_screenshot\u001b[0;34m(self)\u001b[0m\n\u001b[1;32m    127\u001b[0m args \u001b[38;5;241m+\u001b[39m\u001b[38;5;241m=\u001b[39m [\n\u001b[1;32m    128\u001b[0m     \u001b[38;5;124m\"\u001b[39m\u001b[38;5;124m--hide-scrollbars\u001b[39m\u001b[38;5;124m\"\u001b[39m,\n\u001b[1;32m    129\u001b[0m     \u001b[38;5;124mf\u001b[39m\u001b[38;5;124m\"\u001b[39m\u001b[38;5;124m--screenshot=\u001b[39m\u001b[38;5;132;01m{\u001b[39;00m\u001b[38;5;28mstr\u001b[39m(temp_img)\u001b[38;5;132;01m}\u001b[39;00m\u001b[38;5;124m\"\u001b[39m,\n\u001b[1;32m    130\u001b[0m     \u001b[38;5;28mstr\u001b[39m(temp_html),\n\u001b[1;32m    131\u001b[0m ]\n\u001b[1;32m    133\u001b[0m subprocess\u001b[38;5;241m.\u001b[39mrun(executable\u001b[38;5;241m=\u001b[39m\u001b[38;5;28mself\u001b[39m\u001b[38;5;241m.\u001b[39mchrome_path, args\u001b[38;5;241m=\u001b[39margs)\n\u001b[0;32m--> 135\u001b[0m \u001b[38;5;28;01mwith\u001b[39;00m \u001b[38;5;28;43mopen\u001b[39;49m\u001b[43m(\u001b[49m\u001b[43mtemp_img\u001b[49m\u001b[43m,\u001b[49m\u001b[43m \u001b[49m\u001b[38;5;124;43m\"\u001b[39;49m\u001b[38;5;124;43mrb\u001b[39;49m\u001b[38;5;124;43m\"\u001b[39;49m\u001b[43m)\u001b[49m \u001b[38;5;28;01mas\u001b[39;00m f:\n\u001b[1;32m    136\u001b[0m     img_bytes \u001b[38;5;241m=\u001b[39m f\u001b[38;5;241m.\u001b[39mread()\n\u001b[1;32m    138\u001b[0m buffer \u001b[38;5;241m=\u001b[39m io\u001b[38;5;241m.\u001b[39mBytesIO(img_bytes)\n",
      "\u001b[0;31mFileNotFoundError\u001b[0m: [Errno 2] No such file or directory: '/tmp/tmpspa_0fvy/temp.png'"
     ]
    }
   ],
   "source": [
    "# YOUR CODE HERE\n",
    "big_eruptions_data = eruptions_data[eruptions_data[\"VEI\"] == 7]\n",
    "df_styled = big_eruptions_data.style.format(precision=0)\n",
    "dfi.export(df_styled, 'najwiekszeErupcje.png')\n",
    "display(df_styled)"
   ]
  },
  {
   "cell_type": "code",
   "execution_count": 17,
   "id": "0400e36d-33ae-4673-96fa-7f1b21958dfe",
   "metadata": {
    "deletable": false,
    "editable": false,
    "nbgrader": {
     "cell_type": "code",
     "checksum": "64a5454e4bb87f6dae4fa67c300911d2",
     "grade": true,
     "grade_id": "cell-93d159a92fa925b4",
     "locked": true,
     "points": 1,
     "schema_version": 3,
     "solution": false,
     "task": false
    },
    "tags": []
   },
   "outputs": [],
   "source": [
    "### Komórka testowa\n",
    "assert set(big_eruptions_data['Volcano Name'].index) == set([16231, 20843, 13879, 20904, 16980, 20610, 18903])\n",
    "assert set(big_eruptions_data['Volcano Name'].values) == set(['Tambora', 'Rinjani', 'Santorini', 'Blanco, Cerro', 'Kikai', 'Crater Lake', 'Kurile Lake'])"
   ]
  },
  {
   "cell_type": "markdown",
   "id": "49e2d4df-440d-468c-89cf-cc035185f62f",
   "metadata": {
    "deletable": false,
    "editable": false,
    "nbgrader": {
     "cell_type": "markdown",
     "checksum": "e7815d8003a806b009962483b4e0f176",
     "grade": false,
     "grade_id": "cell-781f250705073040",
     "locked": true,
     "schema_version": 3,
     "solution": false,
     "task": false
    },
    "tags": []
   },
   "source": [
    "#### b) Najaktywniejsze wulkany\n",
    "Przygotuj tablicę `most_active_data` zawierającą następujące elementy:\n",
    "\n",
    "Indeks:\n",
    "- domyślny\n",
    "\n",
    "Kolumny:\n",
    "- Volcano - nazwy wulkanów\n",
    "- Recorded eruptions - liczba zarejestrowanych erupcji\n",
    "\n",
    "Dane w tablicy powinny być posortowane od największej do najmniejszej liczby zarejestrowanych erupcji, a w przypadku takiej samej liczby erupcji alfabetycznie po nazwach wulkanów.\n",
    "\n",
    "Wyświetl przygotowaną tablicę w taki sposób aby widoczne było 10 pierwszych wierszy, a zawarte w tablicy liczby wyświetlały się bez miejsc po przecinku."
   ]
  },
  {
   "cell_type": "code",
   "execution_count": 18,
   "id": "8e628811-93fe-454c-af2e-e32602652de9",
   "metadata": {
    "deletable": false,
    "nbgrader": {
     "cell_type": "code",
     "checksum": "b190ab92e852e2fafb88a6c51cb7d00f",
     "grade": false,
     "grade_id": "cell-6822b057abf5c287",
     "locked": false,
     "schema_version": 3,
     "solution": true,
     "task": false
    },
    "tags": []
   },
   "outputs": [
    {
     "name": "stderr",
     "output_type": "stream",
     "text": [
      "error: unknown flag `disable-gpu'\n"
     ]
    },
    {
     "ename": "FileNotFoundError",
     "evalue": "[Errno 2] No such file or directory: '/tmp/tmpywibnfuf/temp.png'",
     "output_type": "error",
     "traceback": [
      "\u001b[0;31m---------------------------------------------------------------------------\u001b[0m",
      "\u001b[0;31mFileNotFoundError\u001b[0m                         Traceback (most recent call last)",
      "Cell \u001b[0;32mIn [18], line 9\u001b[0m\n\u001b[1;32m      7\u001b[0m most_active_data\u001b[38;5;241m.\u001b[39mreset_index(inplace \u001b[38;5;241m=\u001b[39m \u001b[38;5;28;01mTrue\u001b[39;00m)\n\u001b[1;32m      8\u001b[0m df_styled \u001b[38;5;241m=\u001b[39m most_active_data\u001b[38;5;241m.\u001b[39mhead(\u001b[38;5;241m10\u001b[39m)\u001b[38;5;241m.\u001b[39mstyle\u001b[38;5;241m.\u001b[39mformat(precision\u001b[38;5;241m=\u001b[39m\u001b[38;5;241m0\u001b[39m)\n\u001b[0;32m----> 9\u001b[0m \u001b[43mdfi\u001b[49m\u001b[38;5;241;43m.\u001b[39;49m\u001b[43mexport\u001b[49m\u001b[43m(\u001b[49m\u001b[43mdf_styled\u001b[49m\u001b[43m,\u001b[49m\u001b[43m \u001b[49m\u001b[38;5;124;43m'\u001b[39;49m\u001b[38;5;124;43mmostActiveData.png\u001b[39;49m\u001b[38;5;124;43m'\u001b[39;49m\u001b[43m)\u001b[49m\n\u001b[1;32m     10\u001b[0m display(df_styled)\n",
      "File \u001b[0;32m~/.local/lib/python3.10/site-packages/dataframe_image/_pandas_accessor.py:48\u001b[0m, in \u001b[0;36mexport\u001b[0;34m(obj, filename, fontsize, max_rows, max_cols, table_conversion, chrome_path, dpi)\u001b[0m\n\u001b[1;32m     38\u001b[0m \u001b[38;5;28;01mdef\u001b[39;00m \u001b[38;5;21mexport\u001b[39m(\n\u001b[1;32m     39\u001b[0m     obj,\n\u001b[1;32m     40\u001b[0m     filename,\n\u001b[0;32m   (...)\u001b[0m\n\u001b[1;32m     46\u001b[0m     dpi\u001b[38;5;241m=\u001b[39m\u001b[38;5;28;01mNone\u001b[39;00m\n\u001b[1;32m     47\u001b[0m ):\n\u001b[0;32m---> 48\u001b[0m     \u001b[38;5;28;01mreturn\u001b[39;00m \u001b[43m_export\u001b[49m\u001b[43m(\u001b[49m\n\u001b[1;32m     49\u001b[0m \u001b[43m        \u001b[49m\u001b[43mobj\u001b[49m\u001b[43m,\u001b[49m\u001b[43m \u001b[49m\u001b[43mfilename\u001b[49m\u001b[43m,\u001b[49m\u001b[43m \u001b[49m\u001b[43mfontsize\u001b[49m\u001b[43m,\u001b[49m\u001b[43m \u001b[49m\u001b[43mmax_rows\u001b[49m\u001b[43m,\u001b[49m\u001b[43m \u001b[49m\u001b[43mmax_cols\u001b[49m\u001b[43m,\u001b[49m\u001b[43m \u001b[49m\u001b[43mtable_conversion\u001b[49m\u001b[43m,\u001b[49m\u001b[43m \u001b[49m\u001b[43mchrome_path\u001b[49m\u001b[43m,\u001b[49m\u001b[43m \u001b[49m\u001b[43mdpi\u001b[49m\n\u001b[1;32m     50\u001b[0m \u001b[43m   \u001b[49m\u001b[43m)\u001b[49m\n",
      "File \u001b[0;32m~/.local/lib/python3.10/site-packages/dataframe_image/_pandas_accessor.py:117\u001b[0m, in \u001b[0;36m_export\u001b[0;34m(obj, filename, fontsize, max_rows, max_cols, table_conversion, chrome_path, dpi)\u001b[0m\n\u001b[1;32m    114\u001b[0m \u001b[38;5;28;01melse\u001b[39;00m:\n\u001b[1;32m    115\u001b[0m     html \u001b[38;5;241m=\u001b[39m obj\u001b[38;5;241m.\u001b[39mto_html(max_rows\u001b[38;5;241m=\u001b[39mmax_rows, max_cols\u001b[38;5;241m=\u001b[39mmax_cols, notebook\u001b[38;5;241m=\u001b[39m\u001b[38;5;28;01mTrue\u001b[39;00m)\n\u001b[0;32m--> 117\u001b[0m img_str \u001b[38;5;241m=\u001b[39m \u001b[43mconverter\u001b[49m\u001b[43m(\u001b[49m\u001b[43mhtml\u001b[49m\u001b[43m)\u001b[49m\n\u001b[1;32m    119\u001b[0m \u001b[38;5;28;01mif\u001b[39;00m \u001b[38;5;28misinstance\u001b[39m(filename, \u001b[38;5;28mstr\u001b[39m):\n\u001b[1;32m    120\u001b[0m     \u001b[38;5;28mopen\u001b[39m(filename, \u001b[38;5;124m\"\u001b[39m\u001b[38;5;124mwb\u001b[39m\u001b[38;5;124m\"\u001b[39m)\u001b[38;5;241m.\u001b[39mwrite(img_str)\n",
      "File \u001b[0;32m~/.local/lib/python3.10/site-packages/dataframe_image/_screenshot.py:187\u001b[0m, in \u001b[0;36mScreenshot.run\u001b[0;34m(self, html)\u001b[0m\n\u001b[1;32m    185\u001b[0m \u001b[38;5;28;01mdef\u001b[39;00m \u001b[38;5;21mrun\u001b[39m(\u001b[38;5;28mself\u001b[39m, html):\n\u001b[1;32m    186\u001b[0m     \u001b[38;5;28mself\u001b[39m\u001b[38;5;241m.\u001b[39mhtml \u001b[38;5;241m=\u001b[39m \u001b[38;5;28mself\u001b[39m\u001b[38;5;241m.\u001b[39mcss \u001b[38;5;241m+\u001b[39m html\n\u001b[0;32m--> 187\u001b[0m     img \u001b[38;5;241m=\u001b[39m \u001b[38;5;28;43mself\u001b[39;49m\u001b[38;5;241;43m.\u001b[39;49m\u001b[43mtake_screenshot\u001b[49m\u001b[43m(\u001b[49m\u001b[43m)\u001b[49m\n\u001b[1;32m    188\u001b[0m     img_str \u001b[38;5;241m=\u001b[39m \u001b[38;5;28mself\u001b[39m\u001b[38;5;241m.\u001b[39mfinalize_image(img)\n\u001b[1;32m    189\u001b[0m     \u001b[38;5;28;01mreturn\u001b[39;00m img_str\n",
      "File \u001b[0;32m~/.local/lib/python3.10/site-packages/dataframe_image/_screenshot.py:135\u001b[0m, in \u001b[0;36mScreenshot.take_screenshot\u001b[0;34m(self)\u001b[0m\n\u001b[1;32m    127\u001b[0m args \u001b[38;5;241m+\u001b[39m\u001b[38;5;241m=\u001b[39m [\n\u001b[1;32m    128\u001b[0m     \u001b[38;5;124m\"\u001b[39m\u001b[38;5;124m--hide-scrollbars\u001b[39m\u001b[38;5;124m\"\u001b[39m,\n\u001b[1;32m    129\u001b[0m     \u001b[38;5;124mf\u001b[39m\u001b[38;5;124m\"\u001b[39m\u001b[38;5;124m--screenshot=\u001b[39m\u001b[38;5;132;01m{\u001b[39;00m\u001b[38;5;28mstr\u001b[39m(temp_img)\u001b[38;5;132;01m}\u001b[39;00m\u001b[38;5;124m\"\u001b[39m,\n\u001b[1;32m    130\u001b[0m     \u001b[38;5;28mstr\u001b[39m(temp_html),\n\u001b[1;32m    131\u001b[0m ]\n\u001b[1;32m    133\u001b[0m subprocess\u001b[38;5;241m.\u001b[39mrun(executable\u001b[38;5;241m=\u001b[39m\u001b[38;5;28mself\u001b[39m\u001b[38;5;241m.\u001b[39mchrome_path, args\u001b[38;5;241m=\u001b[39margs)\n\u001b[0;32m--> 135\u001b[0m \u001b[38;5;28;01mwith\u001b[39;00m \u001b[38;5;28;43mopen\u001b[39;49m\u001b[43m(\u001b[49m\u001b[43mtemp_img\u001b[49m\u001b[43m,\u001b[49m\u001b[43m \u001b[49m\u001b[38;5;124;43m\"\u001b[39;49m\u001b[38;5;124;43mrb\u001b[39;49m\u001b[38;5;124;43m\"\u001b[39;49m\u001b[43m)\u001b[49m \u001b[38;5;28;01mas\u001b[39;00m f:\n\u001b[1;32m    136\u001b[0m     img_bytes \u001b[38;5;241m=\u001b[39m f\u001b[38;5;241m.\u001b[39mread()\n\u001b[1;32m    138\u001b[0m buffer \u001b[38;5;241m=\u001b[39m io\u001b[38;5;241m.\u001b[39mBytesIO(img_bytes)\n",
      "\u001b[0;31mFileNotFoundError\u001b[0m: [Errno 2] No such file or directory: '/tmp/tmpywibnfuf/temp.png'"
     ]
    }
   ],
   "source": [
    "# YOUR CODE HERE\n",
    "most_active_data = pd.DataFrame()\n",
    "most_active_data[\"Volcano\"] = eruptions_data[\"Volcano Name\"]\n",
    "most_active_data = most_active_data.groupby(by=\"Volcano\", as_index=False).size()\n",
    "most_active_data.columns = [\"Volcano\", \"Recorded eruptions\"]\n",
    "most_active_data = most_active_data.sort_values([\"Recorded eruptions\", 'Volcano'], ascending = [False, True])\n",
    "most_active_data.reset_index(inplace = True)\n",
    "df_styled = most_active_data.head(10).style.format(precision=0)\n",
    "dfi.export(df_styled, 'mostActiveData.png')\n",
    "display(df_styled)"
   ]
  },
  {
   "cell_type": "code",
   "execution_count": 19,
   "id": "759f4484-6228-44b2-8cef-f3538499b12d",
   "metadata": {
    "deletable": false,
    "editable": false,
    "nbgrader": {
     "cell_type": "code",
     "checksum": "0503adb3144bfa668e5d52b69605a4da",
     "grade": true,
     "grade_id": "cell-7de8c79d77dbc9db",
     "locked": true,
     "points": 2,
     "schema_version": 3,
     "solution": false,
     "task": false
    },
    "tags": []
   },
   "outputs": [],
   "source": [
    "### Komórka testowa\n",
    "assert list(most_active_data.loc[:9, \"Volcano\"]) == ['Fournaise, Piton de la', 'Asosan', 'Villarrica', 'Asamayama', 'Etna',\n",
    "                                                         'Mauna Loa', 'Klyuchevskoy','Sheveluch', 'Gamalama', 'Merapi']\n",
    "assert list(most_active_data.loc[:9, \"Recorded eruptions\"]) == [191, 180, 152, 128, 121, 110, 104, 102,  81,  81]"
   ]
  },
  {
   "cell_type": "markdown",
   "id": "6e7c3ac7-9410-4619-b463-935f924b2071",
   "metadata": {
    "deletable": false,
    "editable": false,
    "nbgrader": {
     "cell_type": "markdown",
     "checksum": "25f2fab891922112a197aa9b799e447b",
     "grade": false,
     "grade_id": "cell-e636484a240b2879",
     "locked": true,
     "schema_version": 3,
     "solution": false,
     "task": false
    },
    "tags": []
   },
   "source": [
    "#### c) Ostatnie erupcje o określonej wielkości\n",
    "Przygotuj zmienną `last_eruption_data` zawierającą tablicę zawierającą następujące elementy:\n",
    "\n",
    "Indeks:\n",
    "- VEI - wartości VEI posortowane od najmniejszej do największej.\n",
    "\n",
    "Kolumny:\n",
    "- Last recorded eruption - lata, w których ostatni raz zarejestrowano erupcję o określonej wartości VEI (na podstawie daty początku erupcji).\n",
    "\n",
    "Wyświetl przygotowaną tablicę w taki sposób aby zawarte w niej liczby wyświetlały się bez miejsc po przecinku."
   ]
  },
  {
   "cell_type": "code",
   "execution_count": 20,
   "id": "e9acb879-33a8-45b7-a673-bef5ae025d54",
   "metadata": {
    "deletable": false,
    "nbgrader": {
     "cell_type": "code",
     "checksum": "7f34b106e03dd001b62c0959fa3e4d23",
     "grade": false,
     "grade_id": "cell-f26a7582febc53a6",
     "locked": false,
     "schema_version": 3,
     "solution": true,
     "task": false
    },
    "tags": []
   },
   "outputs": [
    {
     "name": "stderr",
     "output_type": "stream",
     "text": [
      "error: unknown flag `disable-gpu'\n"
     ]
    },
    {
     "ename": "FileNotFoundError",
     "evalue": "[Errno 2] No such file or directory: '/tmp/tmpqsl950yy/temp.png'",
     "output_type": "error",
     "traceback": [
      "\u001b[0;31m---------------------------------------------------------------------------\u001b[0m",
      "\u001b[0;31mFileNotFoundError\u001b[0m                         Traceback (most recent call last)",
      "Cell \u001b[0;32mIn [20], line 6\u001b[0m\n\u001b[1;32m      4\u001b[0m last_eruption_data\u001b[38;5;241m.\u001b[39mcolumns \u001b[38;5;241m=\u001b[39m [\u001b[38;5;124m\"\u001b[39m\u001b[38;5;124mLast recorded eruption\u001b[39m\u001b[38;5;124m\"\u001b[39m]\n\u001b[1;32m      5\u001b[0m df_styled \u001b[38;5;241m=\u001b[39m last_eruption_data\u001b[38;5;241m.\u001b[39mstyle\u001b[38;5;241m.\u001b[39mformat(precision\u001b[38;5;241m=\u001b[39m\u001b[38;5;241m0\u001b[39m)\n\u001b[0;32m----> 6\u001b[0m \u001b[43mdfi\u001b[49m\u001b[38;5;241;43m.\u001b[39;49m\u001b[43mexport\u001b[49m\u001b[43m(\u001b[49m\u001b[43mdf_styled\u001b[49m\u001b[43m,\u001b[49m\u001b[43m \u001b[49m\u001b[38;5;124;43m'\u001b[39;49m\u001b[38;5;124;43mlastErutpionData.png\u001b[39;49m\u001b[38;5;124;43m'\u001b[39;49m\u001b[43m)\u001b[49m\n\u001b[1;32m      7\u001b[0m display(df_styled)\n",
      "File \u001b[0;32m~/.local/lib/python3.10/site-packages/dataframe_image/_pandas_accessor.py:48\u001b[0m, in \u001b[0;36mexport\u001b[0;34m(obj, filename, fontsize, max_rows, max_cols, table_conversion, chrome_path, dpi)\u001b[0m\n\u001b[1;32m     38\u001b[0m \u001b[38;5;28;01mdef\u001b[39;00m \u001b[38;5;21mexport\u001b[39m(\n\u001b[1;32m     39\u001b[0m     obj,\n\u001b[1;32m     40\u001b[0m     filename,\n\u001b[0;32m   (...)\u001b[0m\n\u001b[1;32m     46\u001b[0m     dpi\u001b[38;5;241m=\u001b[39m\u001b[38;5;28;01mNone\u001b[39;00m\n\u001b[1;32m     47\u001b[0m ):\n\u001b[0;32m---> 48\u001b[0m     \u001b[38;5;28;01mreturn\u001b[39;00m \u001b[43m_export\u001b[49m\u001b[43m(\u001b[49m\n\u001b[1;32m     49\u001b[0m \u001b[43m        \u001b[49m\u001b[43mobj\u001b[49m\u001b[43m,\u001b[49m\u001b[43m \u001b[49m\u001b[43mfilename\u001b[49m\u001b[43m,\u001b[49m\u001b[43m \u001b[49m\u001b[43mfontsize\u001b[49m\u001b[43m,\u001b[49m\u001b[43m \u001b[49m\u001b[43mmax_rows\u001b[49m\u001b[43m,\u001b[49m\u001b[43m \u001b[49m\u001b[43mmax_cols\u001b[49m\u001b[43m,\u001b[49m\u001b[43m \u001b[49m\u001b[43mtable_conversion\u001b[49m\u001b[43m,\u001b[49m\u001b[43m \u001b[49m\u001b[43mchrome_path\u001b[49m\u001b[43m,\u001b[49m\u001b[43m \u001b[49m\u001b[43mdpi\u001b[49m\n\u001b[1;32m     50\u001b[0m \u001b[43m   \u001b[49m\u001b[43m)\u001b[49m\n",
      "File \u001b[0;32m~/.local/lib/python3.10/site-packages/dataframe_image/_pandas_accessor.py:117\u001b[0m, in \u001b[0;36m_export\u001b[0;34m(obj, filename, fontsize, max_rows, max_cols, table_conversion, chrome_path, dpi)\u001b[0m\n\u001b[1;32m    114\u001b[0m \u001b[38;5;28;01melse\u001b[39;00m:\n\u001b[1;32m    115\u001b[0m     html \u001b[38;5;241m=\u001b[39m obj\u001b[38;5;241m.\u001b[39mto_html(max_rows\u001b[38;5;241m=\u001b[39mmax_rows, max_cols\u001b[38;5;241m=\u001b[39mmax_cols, notebook\u001b[38;5;241m=\u001b[39m\u001b[38;5;28;01mTrue\u001b[39;00m)\n\u001b[0;32m--> 117\u001b[0m img_str \u001b[38;5;241m=\u001b[39m \u001b[43mconverter\u001b[49m\u001b[43m(\u001b[49m\u001b[43mhtml\u001b[49m\u001b[43m)\u001b[49m\n\u001b[1;32m    119\u001b[0m \u001b[38;5;28;01mif\u001b[39;00m \u001b[38;5;28misinstance\u001b[39m(filename, \u001b[38;5;28mstr\u001b[39m):\n\u001b[1;32m    120\u001b[0m     \u001b[38;5;28mopen\u001b[39m(filename, \u001b[38;5;124m\"\u001b[39m\u001b[38;5;124mwb\u001b[39m\u001b[38;5;124m\"\u001b[39m)\u001b[38;5;241m.\u001b[39mwrite(img_str)\n",
      "File \u001b[0;32m~/.local/lib/python3.10/site-packages/dataframe_image/_screenshot.py:187\u001b[0m, in \u001b[0;36mScreenshot.run\u001b[0;34m(self, html)\u001b[0m\n\u001b[1;32m    185\u001b[0m \u001b[38;5;28;01mdef\u001b[39;00m \u001b[38;5;21mrun\u001b[39m(\u001b[38;5;28mself\u001b[39m, html):\n\u001b[1;32m    186\u001b[0m     \u001b[38;5;28mself\u001b[39m\u001b[38;5;241m.\u001b[39mhtml \u001b[38;5;241m=\u001b[39m \u001b[38;5;28mself\u001b[39m\u001b[38;5;241m.\u001b[39mcss \u001b[38;5;241m+\u001b[39m html\n\u001b[0;32m--> 187\u001b[0m     img \u001b[38;5;241m=\u001b[39m \u001b[38;5;28;43mself\u001b[39;49m\u001b[38;5;241;43m.\u001b[39;49m\u001b[43mtake_screenshot\u001b[49m\u001b[43m(\u001b[49m\u001b[43m)\u001b[49m\n\u001b[1;32m    188\u001b[0m     img_str \u001b[38;5;241m=\u001b[39m \u001b[38;5;28mself\u001b[39m\u001b[38;5;241m.\u001b[39mfinalize_image(img)\n\u001b[1;32m    189\u001b[0m     \u001b[38;5;28;01mreturn\u001b[39;00m img_str\n",
      "File \u001b[0;32m~/.local/lib/python3.10/site-packages/dataframe_image/_screenshot.py:135\u001b[0m, in \u001b[0;36mScreenshot.take_screenshot\u001b[0;34m(self)\u001b[0m\n\u001b[1;32m    127\u001b[0m args \u001b[38;5;241m+\u001b[39m\u001b[38;5;241m=\u001b[39m [\n\u001b[1;32m    128\u001b[0m     \u001b[38;5;124m\"\u001b[39m\u001b[38;5;124m--hide-scrollbars\u001b[39m\u001b[38;5;124m\"\u001b[39m,\n\u001b[1;32m    129\u001b[0m     \u001b[38;5;124mf\u001b[39m\u001b[38;5;124m\"\u001b[39m\u001b[38;5;124m--screenshot=\u001b[39m\u001b[38;5;132;01m{\u001b[39;00m\u001b[38;5;28mstr\u001b[39m(temp_img)\u001b[38;5;132;01m}\u001b[39;00m\u001b[38;5;124m\"\u001b[39m,\n\u001b[1;32m    130\u001b[0m     \u001b[38;5;28mstr\u001b[39m(temp_html),\n\u001b[1;32m    131\u001b[0m ]\n\u001b[1;32m    133\u001b[0m subprocess\u001b[38;5;241m.\u001b[39mrun(executable\u001b[38;5;241m=\u001b[39m\u001b[38;5;28mself\u001b[39m\u001b[38;5;241m.\u001b[39mchrome_path, args\u001b[38;5;241m=\u001b[39margs)\n\u001b[0;32m--> 135\u001b[0m \u001b[38;5;28;01mwith\u001b[39;00m \u001b[38;5;28;43mopen\u001b[39;49m\u001b[43m(\u001b[49m\u001b[43mtemp_img\u001b[49m\u001b[43m,\u001b[49m\u001b[43m \u001b[49m\u001b[38;5;124;43m\"\u001b[39;49m\u001b[38;5;124;43mrb\u001b[39;49m\u001b[38;5;124;43m\"\u001b[39;49m\u001b[43m)\u001b[49m \u001b[38;5;28;01mas\u001b[39;00m f:\n\u001b[1;32m    136\u001b[0m     img_bytes \u001b[38;5;241m=\u001b[39m f\u001b[38;5;241m.\u001b[39mread()\n\u001b[1;32m    138\u001b[0m buffer \u001b[38;5;241m=\u001b[39m io\u001b[38;5;241m.\u001b[39mBytesIO(img_bytes)\n",
      "\u001b[0;31mFileNotFoundError\u001b[0m: [Errno 2] No such file or directory: '/tmp/tmpqsl950yy/temp.png'"
     ]
    }
   ],
   "source": [
    "# YOUR CODE HERE\n",
    "last_eruption_data = eruptions_data[[\"VEI\", \"Start Year\"]]\n",
    "last_eruption_data = last_eruption_data.groupby(\"VEI\").max()\n",
    "last_eruption_data.columns = [\"Last recorded eruption\"]\n",
    "df_styled = last_eruption_data.style.format(precision=0)\n",
    "dfi.export(df_styled, 'lastErutpionData.png')\n",
    "display(df_styled)"
   ]
  },
  {
   "cell_type": "code",
   "execution_count": 21,
   "id": "cf0ba603-f8ac-425a-a2d7-a340dcd5d1ea",
   "metadata": {
    "deletable": false,
    "editable": false,
    "nbgrader": {
     "cell_type": "code",
     "checksum": "a585736034d3d988fd785a2d12e6937b",
     "grade": true,
     "grade_id": "cell-d6641c86a43e0ab5",
     "locked": true,
     "points": 2,
     "schema_version": 3,
     "solution": false,
     "task": false
    },
    "tags": []
   },
   "outputs": [],
   "source": [
    "### Komórka testowa\n",
    "assert (last_eruption_data.index.name == 'VEI') == True\n",
    "assert list(last_eruption_data['Last recorded eruption'].index) == [0, 1, 2, 3, 4, 5, 6, 7]\n",
    "assert list(last_eruption_data['Last recorded eruption'].values) == [2021, 2022, 2022, 2021, 2021, 2021, 1991, 1812]"
   ]
  },
  {
   "cell_type": "markdown",
   "id": "4fe49a2f-9894-4d23-a69f-2a0ff96569b9",
   "metadata": {
    "deletable": false,
    "editable": false,
    "nbgrader": {
     "cell_type": "markdown",
     "checksum": "5d71cbfd86ca93a4b814a3e483696034",
     "grade": false,
     "grade_id": "cell-482f00a43192f793",
     "locked": true,
     "schema_version": 3,
     "solution": false,
     "task": false
    },
    "tags": []
   },
   "source": [
    "### Zadanie 3: Konstrukcja szeregów rodzielczych - wersja podstawowa [10 pkt]"
   ]
  },
  {
   "cell_type": "markdown",
   "id": "e9080333-e7dc-48fe-a214-c95756301996",
   "metadata": {
    "deletable": false,
    "editable": false,
    "nbgrader": {
     "cell_type": "markdown",
     "checksum": "b2f5b29abb4338ed0537c8b851c0748f",
     "grade": false,
     "grade_id": "cell-df7e7e832751b528",
     "locked": true,
     "schema_version": 3,
     "solution": false,
     "task": false
    },
    "tags": []
   },
   "source": [
    "#### a) Forma tabelaryczna\n",
    "Przygotuj szeregi rozdzielcze VEI w formie tablic zawierających następujące elementy:\n",
    "\n",
    "Indeks:\n",
    "- VEI - wartości VEI posortowane od najmniejszej do największej.\n",
    "\n",
    "Kolumny:\n",
    "- f - zliczenia poszczególnych kategorii (ang. frequency, absolute frequency),\n",
    "- cf - zliczenia skumulowane poszczególnych kategorii (ang. cumulative frequency, cumulative absolute frequency),\n",
    "- rf - częstość zliczeń poszczególnych kategorii (ang. relative frequency),\n",
    "- crf - skumulowana częstość zliczeń poszczególnych kategorii (ang. cumulative relative frequency).\n",
    "\n",
    "Przygotuj osobne tablice dla wszystkich erupcji (`vei_data_1`), erupcji potwierdzonych (`vei_data_2`) i erupcji niepotwierdzonych (`vei_data_3`).\n",
    "\n",
    "Wyświetl przygotowane tablicę w taki sposób, aby liczby w kolumnach f i cf oraz indeks tablicy VEI wyświetlały się bez miejsc po przecinku, a liczby z kolumn rf i crf z dokładnością do 4 miejsca po przecinku."
   ]
  },
  {
   "cell_type": "code",
   "execution_count": 22,
   "id": "cc1f71ef-62c1-4fbe-9ad3-ef018e3ee22e",
   "metadata": {
    "deletable": false,
    "nbgrader": {
     "cell_type": "code",
     "checksum": "97862d4e448bbfa8388b9e6e1ffd4ed6",
     "grade": false,
     "grade_id": "cell-10bd4bdf7a80603c",
     "locked": false,
     "schema_version": 3,
     "solution": true,
     "task": false
    },
    "tags": []
   },
   "outputs": [
    {
     "data": {
      "text/html": [
       "<style type=\"text/css\">\n",
       "</style>\n",
       "<table id=\"T_be6c6\">\n",
       "  <thead>\n",
       "    <tr>\n",
       "      <th class=\"blank level0\" >&nbsp;</th>\n",
       "      <th id=\"T_be6c6_level0_col0\" class=\"col_heading level0 col0\" >f</th>\n",
       "      <th id=\"T_be6c6_level0_col1\" class=\"col_heading level0 col1\" >cf</th>\n",
       "      <th id=\"T_be6c6_level0_col2\" class=\"col_heading level0 col2\" >rf</th>\n",
       "      <th id=\"T_be6c6_level0_col3\" class=\"col_heading level0 col3\" >crf</th>\n",
       "    </tr>\n",
       "    <tr>\n",
       "      <th class=\"index_name level0\" >VEI</th>\n",
       "      <th class=\"blank col0\" >&nbsp;</th>\n",
       "      <th class=\"blank col1\" >&nbsp;</th>\n",
       "      <th class=\"blank col2\" >&nbsp;</th>\n",
       "      <th class=\"blank col3\" >&nbsp;</th>\n",
       "    </tr>\n",
       "  </thead>\n",
       "  <tbody>\n",
       "    <tr>\n",
       "      <th id=\"T_be6c6_level0_row0\" class=\"row_heading level0 row0\" >0</th>\n",
       "      <td id=\"T_be6c6_row0_col0\" class=\"data row0 col0\" >1007</td>\n",
       "      <td id=\"T_be6c6_row0_col1\" class=\"data row0 col1\" >1007</td>\n",
       "      <td id=\"T_be6c6_row0_col2\" class=\"data row0 col2\" >0.1215</td>\n",
       "      <td id=\"T_be6c6_row0_col3\" class=\"data row0 col3\" >0.1215</td>\n",
       "    </tr>\n",
       "    <tr>\n",
       "      <th id=\"T_be6c6_level0_row1\" class=\"row_heading level0 row1\" >1</th>\n",
       "      <td id=\"T_be6c6_row1_col0\" class=\"data row1 col0\" >1384</td>\n",
       "      <td id=\"T_be6c6_row1_col1\" class=\"data row1 col1\" >2391</td>\n",
       "      <td id=\"T_be6c6_row1_col2\" class=\"data row1 col2\" >0.1670</td>\n",
       "      <td id=\"T_be6c6_row1_col3\" class=\"data row1 col3\" >0.2886</td>\n",
       "    </tr>\n",
       "    <tr>\n",
       "      <th id=\"T_be6c6_level0_row2\" class=\"row_heading level0 row2\" >2</th>\n",
       "      <td id=\"T_be6c6_row2_col0\" class=\"data row2 col0\" >3991</td>\n",
       "      <td id=\"T_be6c6_row2_col1\" class=\"data row2 col1\" >6382</td>\n",
       "      <td id=\"T_be6c6_row2_col2\" class=\"data row2 col2\" >0.4817</td>\n",
       "      <td id=\"T_be6c6_row2_col3\" class=\"data row2 col3\" >0.7703</td>\n",
       "    </tr>\n",
       "    <tr>\n",
       "      <th id=\"T_be6c6_level0_row3\" class=\"row_heading level0 row3\" >3</th>\n",
       "      <td id=\"T_be6c6_row3_col0\" class=\"data row3 col0\" >1152</td>\n",
       "      <td id=\"T_be6c6_row3_col1\" class=\"data row3 col1\" >7534</td>\n",
       "      <td id=\"T_be6c6_row3_col2\" class=\"data row3 col2\" >0.1390</td>\n",
       "      <td id=\"T_be6c6_row3_col3\" class=\"data row3 col3\" >0.9094</td>\n",
       "    </tr>\n",
       "    <tr>\n",
       "      <th id=\"T_be6c6_level0_row4\" class=\"row_heading level0 row4\" >4</th>\n",
       "      <td id=\"T_be6c6_row4_col0\" class=\"data row4 col0\" >511</td>\n",
       "      <td id=\"T_be6c6_row4_col1\" class=\"data row4 col1\" >8045</td>\n",
       "      <td id=\"T_be6c6_row4_col2\" class=\"data row4 col2\" >0.0617</td>\n",
       "      <td id=\"T_be6c6_row4_col3\" class=\"data row4 col3\" >0.9710</td>\n",
       "    </tr>\n",
       "    <tr>\n",
       "      <th id=\"T_be6c6_level0_row5\" class=\"row_heading level0 row5\" >5</th>\n",
       "      <td id=\"T_be6c6_row5_col0\" class=\"data row5 col0\" >180</td>\n",
       "      <td id=\"T_be6c6_row5_col1\" class=\"data row5 col1\" >8225</td>\n",
       "      <td id=\"T_be6c6_row5_col2\" class=\"data row5 col2\" >0.0217</td>\n",
       "      <td id=\"T_be6c6_row5_col3\" class=\"data row5 col3\" >0.9928</td>\n",
       "    </tr>\n",
       "    <tr>\n",
       "      <th id=\"T_be6c6_level0_row6\" class=\"row_heading level0 row6\" >6</th>\n",
       "      <td id=\"T_be6c6_row6_col0\" class=\"data row6 col0\" >53</td>\n",
       "      <td id=\"T_be6c6_row6_col1\" class=\"data row6 col1\" >8278</td>\n",
       "      <td id=\"T_be6c6_row6_col2\" class=\"data row6 col2\" >0.0064</td>\n",
       "      <td id=\"T_be6c6_row6_col3\" class=\"data row6 col3\" >0.9992</td>\n",
       "    </tr>\n",
       "    <tr>\n",
       "      <th id=\"T_be6c6_level0_row7\" class=\"row_heading level0 row7\" >7</th>\n",
       "      <td id=\"T_be6c6_row7_col0\" class=\"data row7 col0\" >7</td>\n",
       "      <td id=\"T_be6c6_row7_col1\" class=\"data row7 col1\" >8285</td>\n",
       "      <td id=\"T_be6c6_row7_col2\" class=\"data row7 col2\" >0.0008</td>\n",
       "      <td id=\"T_be6c6_row7_col3\" class=\"data row7 col3\" >1.0000</td>\n",
       "    </tr>\n",
       "  </tbody>\n",
       "</table>\n"
      ],
      "text/plain": [
       "<pandas.io.formats.style.Styler at 0x7f2c14598fd0>"
      ]
     },
     "execution_count": 22,
     "metadata": {},
     "output_type": "execute_result"
    }
   ],
   "source": [
    "# Wszystkie erupcje\n",
    "# YOUR CODE HERE\n",
    "vei_data_1 = eruptions_data[[\"VEI\", \"Eruption Category\"]]\n",
    "vei_data_1 = vei_data_1.groupby(\"VEI\").count()\n",
    "cf = []\n",
    "for index, row in vei_data_1.iterrows():\n",
    "    try:\n",
    "        cf.append(cf[-1]+row[\"Eruption Category\"])\n",
    "    except:\n",
    "        cf.append(row[\"Eruption Category\"])\n",
    "vei_data_1[\"2\"] = cf\n",
    "vei_data_1[\"3\"] = vei_data_1[\"Eruption Category\"]/np.sum(vei_data_1[\"Eruption Category\"])\n",
    "vei_data_1[\"4\"] = vei_data_1[\"2\"]/np.sum(vei_data_1[\"Eruption Category\"])\n",
    "vei_data_1.columns = [\"f\",\"cf\",\"rf\",\"crf\"]\n",
    "vei_data_1.style.format(precision=0).format(precision=4, subset=[\"rf\",\"crf\"])"
   ]
  },
  {
   "cell_type": "code",
   "execution_count": 23,
   "id": "ccb06dea-5fc7-41b5-8d8b-9d2a49fb508d",
   "metadata": {
    "deletable": false,
    "nbgrader": {
     "cell_type": "code",
     "checksum": "370eb94bfdcb678a9161ef144d9e7256",
     "grade": false,
     "grade_id": "cell-bbe66d65d1b300ca",
     "locked": false,
     "schema_version": 3,
     "solution": true,
     "task": false
    },
    "tags": []
   },
   "outputs": [
    {
     "data": {
      "text/html": [
       "<style type=\"text/css\">\n",
       "</style>\n",
       "<table id=\"T_cd032\">\n",
       "  <thead>\n",
       "    <tr>\n",
       "      <th class=\"blank level0\" >&nbsp;</th>\n",
       "      <th id=\"T_cd032_level0_col0\" class=\"col_heading level0 col0\" >f</th>\n",
       "      <th id=\"T_cd032_level0_col1\" class=\"col_heading level0 col1\" >cf</th>\n",
       "      <th id=\"T_cd032_level0_col2\" class=\"col_heading level0 col2\" >rf</th>\n",
       "      <th id=\"T_cd032_level0_col3\" class=\"col_heading level0 col3\" >crf</th>\n",
       "    </tr>\n",
       "    <tr>\n",
       "      <th class=\"index_name level0\" >VEI</th>\n",
       "      <th class=\"blank col0\" >&nbsp;</th>\n",
       "      <th class=\"blank col1\" >&nbsp;</th>\n",
       "      <th class=\"blank col2\" >&nbsp;</th>\n",
       "      <th class=\"blank col3\" >&nbsp;</th>\n",
       "    </tr>\n",
       "  </thead>\n",
       "  <tbody>\n",
       "    <tr>\n",
       "      <th id=\"T_cd032_level0_row0\" class=\"row_heading level0 row0\" >0</th>\n",
       "      <td id=\"T_cd032_row0_col0\" class=\"data row0 col0\" >803</td>\n",
       "      <td id=\"T_cd032_row0_col1\" class=\"data row0 col1\" >803</td>\n",
       "      <td id=\"T_cd032_row0_col2\" class=\"data row0 col2\" >0.1051</td>\n",
       "      <td id=\"T_cd032_row0_col3\" class=\"data row0 col3\" >0.1051</td>\n",
       "    </tr>\n",
       "    <tr>\n",
       "      <th id=\"T_cd032_level0_row1\" class=\"row_heading level0 row1\" >1</th>\n",
       "      <td id=\"T_cd032_row1_col0\" class=\"data row1 col0\" >1227</td>\n",
       "      <td id=\"T_cd032_row1_col1\" class=\"data row1 col1\" >2030</td>\n",
       "      <td id=\"T_cd032_row1_col2\" class=\"data row1 col2\" >0.1606</td>\n",
       "      <td id=\"T_cd032_row1_col3\" class=\"data row1 col3\" >0.2657</td>\n",
       "    </tr>\n",
       "    <tr>\n",
       "      <th id=\"T_cd032_level0_row2\" class=\"row_heading level0 row2\" >2</th>\n",
       "      <td id=\"T_cd032_row2_col0\" class=\"data row2 col0\" >3727</td>\n",
       "      <td id=\"T_cd032_row2_col1\" class=\"data row2 col1\" >5757</td>\n",
       "      <td id=\"T_cd032_row2_col2\" class=\"data row2 col2\" >0.4878</td>\n",
       "      <td id=\"T_cd032_row2_col3\" class=\"data row2 col3\" >0.7535</td>\n",
       "    </tr>\n",
       "    <tr>\n",
       "      <th id=\"T_cd032_level0_row3\" class=\"row_heading level0 row3\" >3</th>\n",
       "      <td id=\"T_cd032_row3_col0\" class=\"data row3 col0\" >1133</td>\n",
       "      <td id=\"T_cd032_row3_col1\" class=\"data row3 col1\" >6890</td>\n",
       "      <td id=\"T_cd032_row3_col2\" class=\"data row3 col2\" >0.1483</td>\n",
       "      <td id=\"T_cd032_row3_col3\" class=\"data row3 col3\" >0.9018</td>\n",
       "    </tr>\n",
       "    <tr>\n",
       "      <th id=\"T_cd032_level0_row4\" class=\"row_heading level0 row4\" >4</th>\n",
       "      <td id=\"T_cd032_row4_col0\" class=\"data row4 col0\" >510</td>\n",
       "      <td id=\"T_cd032_row4_col1\" class=\"data row4 col1\" >7400</td>\n",
       "      <td id=\"T_cd032_row4_col2\" class=\"data row4 col2\" >0.0668</td>\n",
       "      <td id=\"T_cd032_row4_col3\" class=\"data row4 col3\" >0.9686</td>\n",
       "    </tr>\n",
       "    <tr>\n",
       "      <th id=\"T_cd032_level0_row5\" class=\"row_heading level0 row5\" >5</th>\n",
       "      <td id=\"T_cd032_row5_col0\" class=\"data row5 col0\" >180</td>\n",
       "      <td id=\"T_cd032_row5_col1\" class=\"data row5 col1\" >7580</td>\n",
       "      <td id=\"T_cd032_row5_col2\" class=\"data row5 col2\" >0.0236</td>\n",
       "      <td id=\"T_cd032_row5_col3\" class=\"data row5 col3\" >0.9921</td>\n",
       "    </tr>\n",
       "    <tr>\n",
       "      <th id=\"T_cd032_level0_row6\" class=\"row_heading level0 row6\" >6</th>\n",
       "      <td id=\"T_cd032_row6_col0\" class=\"data row6 col0\" >53</td>\n",
       "      <td id=\"T_cd032_row6_col1\" class=\"data row6 col1\" >7633</td>\n",
       "      <td id=\"T_cd032_row6_col2\" class=\"data row6 col2\" >0.0069</td>\n",
       "      <td id=\"T_cd032_row6_col3\" class=\"data row6 col3\" >0.9991</td>\n",
       "    </tr>\n",
       "    <tr>\n",
       "      <th id=\"T_cd032_level0_row7\" class=\"row_heading level0 row7\" >7</th>\n",
       "      <td id=\"T_cd032_row7_col0\" class=\"data row7 col0\" >7</td>\n",
       "      <td id=\"T_cd032_row7_col1\" class=\"data row7 col1\" >7640</td>\n",
       "      <td id=\"T_cd032_row7_col2\" class=\"data row7 col2\" >0.0009</td>\n",
       "      <td id=\"T_cd032_row7_col3\" class=\"data row7 col3\" >1.0000</td>\n",
       "    </tr>\n",
       "  </tbody>\n",
       "</table>\n"
      ],
      "text/plain": [
       "<pandas.io.formats.style.Styler at 0x7f2c143f2fe0>"
      ]
     },
     "execution_count": 23,
     "metadata": {},
     "output_type": "execute_result"
    }
   ],
   "source": [
    "# Potwierdzone erupcje\n",
    "# YOUR CODE HERE\n",
    "vei_data_2 = eruptions_data[eruptions_data[\"Eruption Category\"] == \"Confirmed\"][[\"VEI\", \"Eruption Category\"]]\n",
    "vei_data_2 = vei_data_2.groupby(\"VEI\").count()\n",
    "cf = []\n",
    "for index, row in vei_data_2.iterrows():\n",
    "    try:\n",
    "        cf.append(cf[-1]+row[\"Eruption Category\"])\n",
    "    except:\n",
    "        cf.append(row[\"Eruption Category\"])\n",
    "vei_data_2[\"2\"] = cf\n",
    "vei_data_2[\"3\"] = vei_data_2[\"Eruption Category\"]/np.sum(vei_data_2[\"Eruption Category\"])\n",
    "vei_data_2[\"4\"] = vei_data_2[\"2\"]/np.sum(vei_data_2[\"Eruption Category\"])\n",
    "vei_data_2.columns = [\"f\",\"cf\",\"rf\",\"crf\"]\n",
    "vei_data_2.style.format(precision=0).format(precision=4, subset=[\"rf\",\"crf\"])"
   ]
  },
  {
   "cell_type": "code",
   "execution_count": 24,
   "id": "874f3736-2c15-4894-9ff8-dcfa626d38af",
   "metadata": {
    "deletable": false,
    "nbgrader": {
     "cell_type": "code",
     "checksum": "29590b44a12e7e0a18014eebe572dc6c",
     "grade": false,
     "grade_id": "cell-0d54ec5c8d49d655",
     "locked": false,
     "schema_version": 3,
     "solution": true,
     "task": false
    },
    "tags": []
   },
   "outputs": [
    {
     "data": {
      "text/html": [
       "<style type=\"text/css\">\n",
       "</style>\n",
       "<table id=\"T_7271c\">\n",
       "  <thead>\n",
       "    <tr>\n",
       "      <th class=\"blank level0\" >&nbsp;</th>\n",
       "      <th id=\"T_7271c_level0_col0\" class=\"col_heading level0 col0\" >f</th>\n",
       "      <th id=\"T_7271c_level0_col1\" class=\"col_heading level0 col1\" >cf</th>\n",
       "      <th id=\"T_7271c_level0_col2\" class=\"col_heading level0 col2\" >rf</th>\n",
       "      <th id=\"T_7271c_level0_col3\" class=\"col_heading level0 col3\" >crf</th>\n",
       "    </tr>\n",
       "    <tr>\n",
       "      <th class=\"index_name level0\" >VEI</th>\n",
       "      <th class=\"blank col0\" >&nbsp;</th>\n",
       "      <th class=\"blank col1\" >&nbsp;</th>\n",
       "      <th class=\"blank col2\" >&nbsp;</th>\n",
       "      <th class=\"blank col3\" >&nbsp;</th>\n",
       "    </tr>\n",
       "  </thead>\n",
       "  <tbody>\n",
       "    <tr>\n",
       "      <th id=\"T_7271c_level0_row0\" class=\"row_heading level0 row0\" >0</th>\n",
       "      <td id=\"T_7271c_row0_col0\" class=\"data row0 col0\" >204</td>\n",
       "      <td id=\"T_7271c_row0_col1\" class=\"data row0 col1\" >204</td>\n",
       "      <td id=\"T_7271c_row0_col2\" class=\"data row0 col2\" >0.3163</td>\n",
       "      <td id=\"T_7271c_row0_col3\" class=\"data row0 col3\" >0.3163</td>\n",
       "    </tr>\n",
       "    <tr>\n",
       "      <th id=\"T_7271c_level0_row1\" class=\"row_heading level0 row1\" >1</th>\n",
       "      <td id=\"T_7271c_row1_col0\" class=\"data row1 col0\" >157</td>\n",
       "      <td id=\"T_7271c_row1_col1\" class=\"data row1 col1\" >361</td>\n",
       "      <td id=\"T_7271c_row1_col2\" class=\"data row1 col2\" >0.2434</td>\n",
       "      <td id=\"T_7271c_row1_col3\" class=\"data row1 col3\" >0.5597</td>\n",
       "    </tr>\n",
       "    <tr>\n",
       "      <th id=\"T_7271c_level0_row2\" class=\"row_heading level0 row2\" >2</th>\n",
       "      <td id=\"T_7271c_row2_col0\" class=\"data row2 col0\" >264</td>\n",
       "      <td id=\"T_7271c_row2_col1\" class=\"data row2 col1\" >625</td>\n",
       "      <td id=\"T_7271c_row2_col2\" class=\"data row2 col2\" >0.4093</td>\n",
       "      <td id=\"T_7271c_row2_col3\" class=\"data row2 col3\" >0.9690</td>\n",
       "    </tr>\n",
       "    <tr>\n",
       "      <th id=\"T_7271c_level0_row3\" class=\"row_heading level0 row3\" >3</th>\n",
       "      <td id=\"T_7271c_row3_col0\" class=\"data row3 col0\" >19</td>\n",
       "      <td id=\"T_7271c_row3_col1\" class=\"data row3 col1\" >644</td>\n",
       "      <td id=\"T_7271c_row3_col2\" class=\"data row3 col2\" >0.0295</td>\n",
       "      <td id=\"T_7271c_row3_col3\" class=\"data row3 col3\" >0.9984</td>\n",
       "    </tr>\n",
       "    <tr>\n",
       "      <th id=\"T_7271c_level0_row4\" class=\"row_heading level0 row4\" >4</th>\n",
       "      <td id=\"T_7271c_row4_col0\" class=\"data row4 col0\" >1</td>\n",
       "      <td id=\"T_7271c_row4_col1\" class=\"data row4 col1\" >645</td>\n",
       "      <td id=\"T_7271c_row4_col2\" class=\"data row4 col2\" >0.0016</td>\n",
       "      <td id=\"T_7271c_row4_col3\" class=\"data row4 col3\" >1.0000</td>\n",
       "    </tr>\n",
       "    <tr>\n",
       "      <th id=\"T_7271c_level0_row5\" class=\"row_heading level0 row5\" >5</th>\n",
       "      <td id=\"T_7271c_row5_col0\" class=\"data row5 col0\" >0</td>\n",
       "      <td id=\"T_7271c_row5_col1\" class=\"data row5 col1\" >645</td>\n",
       "      <td id=\"T_7271c_row5_col2\" class=\"data row5 col2\" >0.0000</td>\n",
       "      <td id=\"T_7271c_row5_col3\" class=\"data row5 col3\" >1.0000</td>\n",
       "    </tr>\n",
       "    <tr>\n",
       "      <th id=\"T_7271c_level0_row6\" class=\"row_heading level0 row6\" >6</th>\n",
       "      <td id=\"T_7271c_row6_col0\" class=\"data row6 col0\" >0</td>\n",
       "      <td id=\"T_7271c_row6_col1\" class=\"data row6 col1\" >645</td>\n",
       "      <td id=\"T_7271c_row6_col2\" class=\"data row6 col2\" >0.0000</td>\n",
       "      <td id=\"T_7271c_row6_col3\" class=\"data row6 col3\" >1.0000</td>\n",
       "    </tr>\n",
       "    <tr>\n",
       "      <th id=\"T_7271c_level0_row7\" class=\"row_heading level0 row7\" >7</th>\n",
       "      <td id=\"T_7271c_row7_col0\" class=\"data row7 col0\" >0</td>\n",
       "      <td id=\"T_7271c_row7_col1\" class=\"data row7 col1\" >645</td>\n",
       "      <td id=\"T_7271c_row7_col2\" class=\"data row7 col2\" >0.0000</td>\n",
       "      <td id=\"T_7271c_row7_col3\" class=\"data row7 col3\" >1.0000</td>\n",
       "    </tr>\n",
       "  </tbody>\n",
       "</table>\n"
      ],
      "text/plain": [
       "<pandas.io.formats.style.Styler at 0x7f2c1432ca30>"
      ]
     },
     "execution_count": 24,
     "metadata": {},
     "output_type": "execute_result"
    }
   ],
   "source": [
    "# Niepotwierdzone erupcje\n",
    "# YOUR CODE HERE\n",
    "vei_data_3 = eruptions_data[eruptions_data[\"Eruption Category\"] == \"Uncertain\"][[\"VEI\", \"Eruption Category\"]]\n",
    "vei_data_3 = vei_data_3.groupby(\"VEI\").count()\n",
    "for i in range(len(vei_data_1)-len(vei_data_3)):\n",
    "    vei_data_3 = pd.concat([vei_data_3, pd.DataFrame({\"Eruption Category\": 0}, index = [vei_data_3.index[-1]+1,])])\n",
    "vei_data_3.index.name=\"VEI\"\n",
    "cf = []\n",
    "for index, row in vei_data_3.iterrows():\n",
    "    try:\n",
    "        cf.append(cf[-1]+row[\"Eruption Category\"])\n",
    "    except:\n",
    "        cf.append(row[\"Eruption Category\"])\n",
    "vei_data_3[\"2\"] = cf\n",
    "vei_data_3[\"3\"] = vei_data_3[\"Eruption Category\"]/np.sum(vei_data_3[\"Eruption Category\"])\n",
    "vei_data_3[\"4\"] = vei_data_3[\"2\"]/np.sum(vei_data_3[\"Eruption Category\"])\n",
    "vei_data_3.columns = [\"f\",\"cf\",\"rf\",\"crf\"]\n",
    "vei_data_3.style.format(precision=0).format(precision=4, subset=[\"rf\",\"crf\"])"
   ]
  },
  {
   "cell_type": "code",
   "execution_count": 25,
   "id": "c548946a-a7ad-4c86-9263-002b14e32767",
   "metadata": {
    "deletable": false,
    "editable": false,
    "nbgrader": {
     "cell_type": "code",
     "checksum": "e36bf2d83dcc931fdd7a36f9bf9bf136",
     "grade": true,
     "grade_id": "cell-37f309620c903da9",
     "locked": true,
     "points": 5,
     "schema_version": 3,
     "solution": false,
     "task": false
    },
    "tags": []
   },
   "outputs": [
    {
     "ename": "AssertionError",
     "evalue": "",
     "output_type": "error",
     "traceback": [
      "\u001b[0;31m---------------------------------------------------------------------------\u001b[0m",
      "\u001b[0;31mAssertionError\u001b[0m                            Traceback (most recent call last)",
      "Cell \u001b[0;32mIn [25], line 15\u001b[0m\n\u001b[1;32m     13\u001b[0m \u001b[38;5;28;01massert\u001b[39;00m (vei_data_3\u001b[38;5;241m.\u001b[39mindex\u001b[38;5;241m.\u001b[39mname \u001b[38;5;241m==\u001b[39m \u001b[38;5;124m'\u001b[39m\u001b[38;5;124mVEI\u001b[39m\u001b[38;5;124m'\u001b[39m) \u001b[38;5;241m==\u001b[39m \u001b[38;5;28;01mTrue\u001b[39;00m\n\u001b[1;32m     14\u001b[0m \u001b[38;5;28;01massert\u001b[39;00m \u001b[38;5;28mlen\u001b[39m(\u001b[38;5;28mset\u001b[39m(\u001b[38;5;28mlist\u001b[39m(vei_data_3\u001b[38;5;241m.\u001b[39mcolumns)) \u001b[38;5;241m&\u001b[39m \u001b[38;5;28mset\u001b[39m([\u001b[38;5;124m'\u001b[39m\u001b[38;5;124mf\u001b[39m\u001b[38;5;124m'\u001b[39m, \u001b[38;5;124m'\u001b[39m\u001b[38;5;124mcf\u001b[39m\u001b[38;5;124m'\u001b[39m, \u001b[38;5;124m'\u001b[39m\u001b[38;5;124mrf\u001b[39m\u001b[38;5;124m'\u001b[39m, \u001b[38;5;124m'\u001b[39m\u001b[38;5;124mcrf\u001b[39m\u001b[38;5;124m'\u001b[39m])) \u001b[38;5;241m==\u001b[39m \u001b[38;5;241m4\u001b[39m\n\u001b[0;32m---> 15\u001b[0m \u001b[38;5;28;01massert\u001b[39;00m \u001b[38;5;28mlist\u001b[39m(vei_data_3[\u001b[38;5;124m'\u001b[39m\u001b[38;5;124mf\u001b[39m\u001b[38;5;124m'\u001b[39m]\u001b[38;5;241m.\u001b[39mindex) \u001b[38;5;241m==\u001b[39m [\u001b[38;5;241m0\u001b[39m, \u001b[38;5;241m1\u001b[39m, \u001b[38;5;241m2\u001b[39m, \u001b[38;5;241m3\u001b[39m, \u001b[38;5;241m4\u001b[39m]\n\u001b[1;32m     16\u001b[0m \u001b[38;5;28;01massert\u001b[39;00m \u001b[38;5;28mlist\u001b[39m(vei_data_3[\u001b[38;5;124m'\u001b[39m\u001b[38;5;124mf\u001b[39m\u001b[38;5;124m'\u001b[39m]\u001b[38;5;241m.\u001b[39mvalues) \u001b[38;5;241m==\u001b[39m [\u001b[38;5;241m204\u001b[39m, \u001b[38;5;241m157\u001b[39m, \u001b[38;5;241m264\u001b[39m, \u001b[38;5;241m19\u001b[39m, \u001b[38;5;241m1\u001b[39m]\n",
      "\u001b[0;31mAssertionError\u001b[0m: "
     ]
    }
   ],
   "source": [
    "### Komórka testowa\n",
    "# Test 1: Wszystkie erupcje\n",
    "assert (vei_data_1.index.name == 'VEI') == True\n",
    "assert len(set(list(vei_data_1.columns)) & set(['f', 'cf', 'rf', 'crf'])) == 4\n",
    "assert list(vei_data_1['f'].index) == [0, 1, 2, 3, 4, 5, 6, 7]\n",
    "assert list(vei_data_1['f'].values) == [1007, 1384, 3991, 1152, 511, 180, 53, 7]\n",
    "# Test 2: Tylko potwierdzone erupcje\n",
    "assert (vei_data_2.index.name == 'VEI') == True\n",
    "assert len(set(list(vei_data_2.columns)) & set(['f', 'cf', 'rf', 'crf'])) == 4\n",
    "assert list(vei_data_2['f'].index) == [0, 1, 2, 3, 4, 5, 6, 7]\n",
    "assert list(vei_data_2['f'].values) == [803, 1227, 3727, 1133, 510, 180, 53, 7]\n",
    "# Test 3: Tylko niepotwierdzone erupcje\n",
    "assert (vei_data_3.index.name == 'VEI') == True\n",
    "assert len(set(list(vei_data_3.columns)) & set(['f', 'cf', 'rf', 'crf'])) == 4\n",
    "assert list(vei_data_3['f'].index) == [0, 1, 2, 3, 4]\n",
    "assert list(vei_data_3['f'].values) == [204, 157, 264, 19, 1]"
   ]
  },
  {
   "cell_type": "markdown",
   "id": "7532fe1a-76c1-4fbf-8986-11339132667e",
   "metadata": {
    "deletable": false,
    "editable": false,
    "nbgrader": {
     "cell_type": "markdown",
     "checksum": "dbd9edc3c07a1d20f444785674863831",
     "grade": false,
     "grade_id": "cell-1d60b063399b4076",
     "locked": true,
     "schema_version": 3,
     "solution": false,
     "task": false
    },
    "tags": []
   },
   "source": [
    "#### b) Forma graficzna\n",
    "Zwizualizuj dane z przygotowanych tablic za pomocą wykresów słupkowych zliczeń (lewa oś wykresu) z nałożonymi na nie łamanymi częstości skumulowanej (prawa oś wykresu). Zestaw wykresy na pojedynczej figurze (siatka wykresów 1x3). Przygotuj figurę zgodnie z wytycznymi z nagłówka notatnika. Dodatkowo ustaw:\n",
    "- identyczne zakresy wartości na odpowiadających sobie osiach wszystkich trzech wykresów,\n",
    "- różne od domyślnych i od siebie nawzajem kolory wykresu słupkowego oraz łamanej częstości,\n",
    "- kolory lewej i prawej osi oraz ich opisów identyczne z kolorem elementu wykresu, którego dotyczą,\n",
    "- format wyświetlania wartości VEI bez miejsc po przecinku."
   ]
  },
  {
   "cell_type": "code",
   "execution_count": 26,
   "id": "4ef136d3-a7c7-4830-96df-f210dff6b1b3",
   "metadata": {
    "deletable": false,
    "nbgrader": {
     "cell_type": "code",
     "checksum": "5a0c2fd2f6d7c92526e82b2046f0ec3c",
     "grade": true,
     "grade_id": "cell-4291e1fff2828e80",
     "locked": false,
     "points": 5,
     "schema_version": 3,
     "solution": true,
     "task": false
    },
    "tags": []
   },
   "outputs": [
    {
     "data": {
      "image/png": "[encoded data removed]",
      "text/plain": [
       "<Figure size 1400x500 with 6 Axes>"
      ]
     },
     "metadata": {},
     "output_type": "display_data"
    }
   ],
   "source": [
    "# YOUR CODE HERE\n",
    "fig, ax = plt.subplots(1,3,figsize=(14,5), facecolor=\"white\")\n",
    "ax[0].bar(vei_data_1.index, vei_data_1.f, color = \"green\")\n",
    "ax[0].set_ylabel(\"Frequency\")\n",
    "ax[0].set_ylim([0,4200])\n",
    "ax[0].yaxis.label.set_color('green')\n",
    "ax[0].tick_params(axis='y', colors='green')\n",
    "ax[0].set_xlabel(\"VEI\")\n",
    "ax[0].set_xticks(range(0,8))\n",
    "ax[0].set_facecolor(\"white\")\n",
    "ax[0] = ax[0].twinx()\n",
    "ax[0].set_ylabel(\"Cumulated relative frequency\")\n",
    "ax[0].set_ylim([0,1.1])\n",
    "ax[0].yaxis.label.set_color('red')\n",
    "ax[0].tick_params(axis='y', colors='red')\n",
    "ax[0].plot(vei_data_1.index, vei_data_1.crf, c=\"red\")\n",
    "ax[0].spines['left'].set_color('green')\n",
    "ax[0].spines['right'].set_color('red')\n",
    "ax[0].set_title(\"Wszystkie erupcje\")\n",
    "ax[0].set_xlim([-0.5,7.5])\n",
    "\n",
    "\n",
    "ax[1].bar(vei_data_2.index, vei_data_2.f, color = \"green\")\n",
    "ax[1].set_ylabel(\"Frequency\")\n",
    "ax[1].set_ylim([0,4200])\n",
    "ax[1].yaxis.label.set_color('green')\n",
    "ax[1].tick_params(axis='y', colors='green')\n",
    "ax[1].set_xlabel(\"VEI\")\n",
    "ax[1].set_xticks(range(0,8))\n",
    "ax[1].set_facecolor(\"white\")\n",
    "ax[1] = ax[1].twinx()\n",
    "ax[1].set_ylabel(\"Cumulated relative frequency\")\n",
    "ax[1].set_ylim([0,1.1])\n",
    "ax[1].yaxis.label.set_color('red')\n",
    "ax[1].tick_params(axis='y', colors='red')\n",
    "ax[1].plot(vei_data_2.index, vei_data_2.crf, c=\"red\")\n",
    "ax[1].spines['left'].set_color('green')\n",
    "ax[1].spines['right'].set_color('red')\n",
    "ax[1].set_title(\"Potwierdzone erupcje\")\n",
    "ax[1].set_xlim([-0.5,7.5])\n",
    "\n",
    "\n",
    "ax[2].bar(vei_data_3.index, vei_data_3.f, color = \"green\")\n",
    "ax[2].set_ylabel(\"Frequency\")\n",
    "ax[2].set_ylim([0,4200])\n",
    "ax[2].yaxis.label.set_color('green')\n",
    "ax[2].tick_params(axis='y', colors='green')\n",
    "ax[2].set_xlabel(\"VEI\")\n",
    "ax[2].set_xticks(range(0,8))\n",
    "ax[2].set_facecolor(\"white\")\n",
    "ax[2] = ax[2].twinx()\n",
    "ax[2].set_ylabel(\"Cumulated relative frequency\")\n",
    "ax[2].set_ylim([0,1.1])\n",
    "ax[2].yaxis.label.set_color('red')\n",
    "ax[2].tick_params(axis='y', colors='red')\n",
    "ax[2].plot(vei_data_3.index, vei_data_3.crf, c=\"red\")\n",
    "ax[2].spines['left'].set_color('green')\n",
    "ax[2].spines['right'].set_color('red')\n",
    "ax[2].set_title(\"Niepotwierdzone erupcje\")\n",
    "ax[2].set_xlim([-0.5,7.5])\n",
    "\n",
    "fig.suptitle(\"Wykresy szeregów rozdzielczych erupcji wulkanów\")\n",
    "fig.tight_layout()\n",
    "fig.subplots_adjust(wspace=0.5)"
   ]
  },
  {
   "cell_type": "code",
   "execution_count": null,
   "id": "39dfa6c9-4250-41f7-a89c-11f49f1e7b6d",
   "metadata": {},
   "outputs": [],
   "source": []
  }
 ],
 "metadata": {
  "kernelspec": {
   "display_name": "Python 3 (ipykernel)",
   "language": "python",
   "name": "python3"
  },
  "language_info": {
   "codemirror_mode": {
    "name": "ipython",
    "version": 3
   },
   "file_extension": ".py",
   "mimetype": "text/x-python",
   "name": "python",
   "nbconvert_exporter": "python",
   "pygments_lexer": "ipython3",
   "version": "3.10.6"
  }
 },
 "nbformat": 4,
 "nbformat_minor": 5
}
