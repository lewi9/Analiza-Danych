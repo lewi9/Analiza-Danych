{
 "cells": [
  {
   "cell_type": "markdown",
   "id": "6a8b45e0",
   "metadata": {
    "deletable": false,
    "editable": false,
    "nbgrader": {
     "cell_type": "markdown",
     "checksum": "4d87ed846e09cbf1c8eae4e0f16bea9b",
     "grade": false,
     "grade_id": "cell-fcd2666579131b77",
     "locked": true,
     "schema_version": 3,
     "solution": false,
     "task": false
    },
    "tags": []
   },
   "source": [
    "# Analiza danych w języku Python - ćwiczenia laboratoryjne 2022/2023\n",
    "\n",
    "Ten notatnik zalicza się do grupy zestawów zadań, na podstawie których odbywa się zaliczenie ćwiczeń i podlega zwrotowi do oceny w ustalonym na zajęciach terminie.\n",
    "\n",
    "Uwagi i wytyczne ogólne dotyczące uzupełniania i oceny notatnika:\n",
    "- Podczas wykonywania zadań należy korzystać wyłącznie z pakietów zaimportowanych na początku notatnika oraz z pakietów wchodzących w skład standardowej biblioteki Pythona, które można zaimportować samodzielnie we wskazanej komórce notatnika.\n",
    "- Swoje rozwiązania należy wprowadzać wyłącznie w miejce następujących fragmentów kodu:<br/> `# YOUR CODE HERE`<br/> `raise NotImplementedError()`<br/> \n",
    "a odpowiedzi tekstowe w komórkach oznaczonych hasłem:<br/> \n",
    "`YOUR ANSWER HERE`<br/> \n",
    "Nie należy w żaden sposób modyfikować pozostałych fragmentów kodu oraz innych elementów notatnika, w szczególności dodawać lub usuwać komórek oraz zmieniać nazwy pliku.\n",
    "- Jeżeli zestaw zadań wymaga skorzystania z fragmentów kodu opracowanego w ramach wcześniejszych zestawów zadań należy je umieścić we wskazanej komórce notatnika.\n",
    "- Otrzymywane wyniki i odpowiedzi mają być rezultatem wykonania napisanego kodu, odpowiedzi uzupełniane manualnie nie podlegają ocenie.\n",
    "- Zadanie należy wykonać w taki sposób, aby podczas wykonywania kodu nie zostały wyświetlone żadne ostrzeżenia.\n",
    "- Zawarte w notatniku automatyczne testy mają charakter poglądowy. Dotyczą one wybranych aspektów zadań i mają za zadanie wyłapać podstawowe błędy. Przejście wszystkich testów nie oznacza, że zadanie jest wykonane w całości poprawnie i zostanie ocenione na maksymalną liczbę punktów.\n",
    "- Zadania, które powodują wyświetlenie komunikatu o błędzie przerywającym wykonywanie kodu nie podlegają ocenie.\n",
    "\n",
    "Uwagi i wytyczne ogólne dotyczące wizualizacji wyników:\n",
    "- Wszystkie wykresy powinny być wykonane w jednolitym, przejrzystym i czytelnym stylu, posiadać odpowiednio dobrane proporcje i zakresy wartości osi.\n",
    "- Wykresy oraz ich osie powinny mieć nadane tytuły. Jeżeli w obrębie figury znajduje się więcej niż jeden wykres to figura również powinna mieć nadany tytuł. \n",
    "- Figury powinny mieć ustawione białe tło, tak, aby niezależnie od ustawień notatnika wszystkie elementy wykresów były dobrze widoczne (domyślnie tło jest przeźroczyste co może powodować problemy w notatnikach z ustawionym ciemnym tłem).\n",
    "- Rozmiar poziomy figur nie powinien przekraczać 20 cali.\n",
    "\n",
    "Przed odesłaniem zestawu zadań do oceny proszę uzupełnić komórkę z danymi autorów rozwiązania (`NAME` - nazwa zespołu, `COLLABORATORS` - imiona, nazwiska i numery indeksów członków zespołu) oraz upewnić się, że notatnik działa zgodnie z oczekiwaniami. W tym celu należy skorzystać z opcji **Restart Kernel and Run All Cells...** dostępnej na górnej belce notatnika pod symbolem $\\blacktriangleright\\blacktriangleright$."
   ]
  },
  {
   "cell_type": "code",
   "execution_count": 50,
   "id": "86a65f31",
   "metadata": {},
   "outputs": [],
   "source": [
    "NAME = \"IAD25\"\n",
    "COLLABORATORS = \"Adam Lewiński 407657, Małgorzata Serwańska 405044\""
   ]
  },
  {
   "cell_type": "markdown",
   "id": "bce6ee50",
   "metadata": {
    "deletable": false,
    "editable": false,
    "nbgrader": {
     "cell_type": "markdown",
     "checksum": "eddc8826810e4a6f7bf68319da334bd9",
     "grade": false,
     "grade_id": "cell-109006d425e5cf83",
     "locked": true,
     "schema_version": 3,
     "solution": false,
     "task": false
    },
    "tags": []
   },
   "source": [
    "---"
   ]
  },
  {
   "cell_type": "markdown",
   "id": "f144a493-e1e1-4431-91e0-9ae0bb59c737",
   "metadata": {
    "deletable": false,
    "editable": false,
    "nbgrader": {
     "cell_type": "markdown",
     "checksum": "41a5d121a0eba23d3ede88e28b3cba3c",
     "grade": false,
     "grade_id": "cell-a3bee1a903bc756d",
     "locked": true,
     "schema_version": 3,
     "solution": false,
     "task": false
    },
    "tags": []
   },
   "source": [
    "## Zestaw zadań 4: Wybrane teoretyczne rozkłady prawdopodobieństwa oraz elementy teorii estymacji (Notatnik 3/3)"
   ]
  },
  {
   "cell_type": "code",
   "execution_count": 51,
   "id": "69823c01-b9eb-45d4-91a2-a7b476181143",
   "metadata": {
    "deletable": false,
    "editable": false,
    "nbgrader": {
     "cell_type": "code",
     "checksum": "8652db8c7bad1a72145426fd366778ef",
     "grade": false,
     "grade_id": "cell-d63cbc800a178457",
     "locked": true,
     "schema_version": 3,
     "solution": false,
     "task": false
    },
    "tags": []
   },
   "outputs": [],
   "source": [
    "import numpy as np\n",
    "import pandas as pd\n",
    "import scipy as sp\n",
    "import matplotlib as mpl\n",
    "import matplotlib.pyplot as plt\n",
    "import seaborn as sns"
   ]
  },
  {
   "cell_type": "code",
   "execution_count": 52,
   "id": "147c5203-89af-4397-94e2-3dea9bde5f89",
   "metadata": {},
   "outputs": [],
   "source": [
    "# Miejsce do importu pakietów wchodzących w skład standardowej biblioteki Pythona oraz ustawienie opcji wykorzystywanych pakietów"
   ]
  },
  {
   "cell_type": "code",
   "execution_count": 53,
   "id": "453ef572-f5d2-4717-a61c-72c3ae90260c",
   "metadata": {
    "deletable": false,
    "editable": false,
    "nbgrader": {
     "cell_type": "code",
     "checksum": "fc87d04232c4ddb2c74d2b9158521ca6",
     "grade": false,
     "grade_id": "cell-1e04649f32ba9338",
     "locked": true,
     "schema_version": 3,
     "solution": false,
     "task": false
    },
    "tags": []
   },
   "outputs": [
    {
     "data": {
      "text/plain": "            x\n0  161.519905\n1  183.059064\n2  179.242080\n3  176.404118\n4  159.452630",
      "text/html": "<div>\n<style scoped>\n    .dataframe tbody tr th:only-of-type {\n        vertical-align: middle;\n    }\n\n    .dataframe tbody tr th {\n        vertical-align: top;\n    }\n\n    .dataframe thead th {\n        text-align: right;\n    }\n</style>\n<table border=\"1\" class=\"dataframe\">\n  <thead>\n    <tr style=\"text-align: right;\">\n      <th></th>\n      <th>x</th>\n    </tr>\n  </thead>\n  <tbody>\n    <tr>\n      <th>0</th>\n      <td>161.519905</td>\n    </tr>\n    <tr>\n      <th>1</th>\n      <td>183.059064</td>\n    </tr>\n    <tr>\n      <th>2</th>\n      <td>179.242080</td>\n    </tr>\n    <tr>\n      <th>3</th>\n      <td>176.404118</td>\n    </tr>\n    <tr>\n      <th>4</th>\n      <td>159.452630</td>\n    </tr>\n  </tbody>\n</table>\n</div>"
     },
     "execution_count": 53,
     "metadata": {},
     "output_type": "execute_result"
    }
   ],
   "source": [
    "# Dane do testów 1\n",
    "test_data_1 = pd.DataFrame(data=sp.stats.norm.rvs(loc=170, scale=10, size=10, random_state=47), columns=[\"x\"])\n",
    "test_data_1.head()"
   ]
  },
  {
   "cell_type": "code",
   "execution_count": 54,
   "id": "e4c1f4ad-0c8a-4644-9d16-ecea071fd2da",
   "metadata": {
    "deletable": false,
    "editable": false,
    "nbgrader": {
     "cell_type": "code",
     "checksum": "ec7264809ab75dd1758406c3220e8e9f",
     "grade": false,
     "grade_id": "cell-0a7e1bd67f85f7d8",
     "locked": true,
     "schema_version": 3,
     "solution": false,
     "task": false
    },
    "tags": []
   },
   "outputs": [
    {
     "data": {
      "text/plain": "          x         y\n0 -1.614383 -9.653548\n1  5.801005  8.109542\n2 -1.072962 -7.234931\n3  4.328927  4.561478\n4 -1.861092 -6.031980",
      "text/html": "<div>\n<style scoped>\n    .dataframe tbody tr th:only-of-type {\n        vertical-align: middle;\n    }\n\n    .dataframe tbody tr th {\n        vertical-align: top;\n    }\n\n    .dataframe thead th {\n        text-align: right;\n    }\n</style>\n<table border=\"1\" class=\"dataframe\">\n  <thead>\n    <tr style=\"text-align: right;\">\n      <th></th>\n      <th>x</th>\n      <th>y</th>\n    </tr>\n  </thead>\n  <tbody>\n    <tr>\n      <th>0</th>\n      <td>-1.614383</td>\n      <td>-9.653548</td>\n    </tr>\n    <tr>\n      <th>1</th>\n      <td>5.801005</td>\n      <td>8.109542</td>\n    </tr>\n    <tr>\n      <th>2</th>\n      <td>-1.072962</td>\n      <td>-7.234931</td>\n    </tr>\n    <tr>\n      <th>3</th>\n      <td>4.328927</td>\n      <td>4.561478</td>\n    </tr>\n    <tr>\n      <th>4</th>\n      <td>-1.861092</td>\n      <td>-6.031980</td>\n    </tr>\n  </tbody>\n</table>\n</div>"
     },
     "execution_count": 54,
     "metadata": {},
     "output_type": "execute_result"
    }
   ],
   "source": [
    "# Dane do testów 2\n",
    "x = sp.stats.uniform.rvs(loc=-2, scale=10, size=25, random_state=34)\n",
    "y = 2*x - 5 + sp.stats.norm.rvs(loc=0, scale=2, size=25, random_state=13)\n",
    "test_data_2 = pd.DataFrame(data=np.array([x, y]).T, columns=[\"x\", \"y\"])\n",
    "test_data_2.head()"
   ]
  },
  {
   "cell_type": "markdown",
   "id": "6f380307-f71b-4fa5-8d56-7371ee90d8db",
   "metadata": {
    "deletable": false,
    "editable": false,
    "nbgrader": {
     "cell_type": "markdown",
     "checksum": "c1005d9fc16cba74f76752196108bbb9",
     "grade": false,
     "grade_id": "cell-0e40187195220419",
     "locked": true,
     "schema_version": 3,
     "solution": false,
     "task": false
    },
    "tags": []
   },
   "source": [
    "### Zadanie 5: Estymacja minimalnej liczebności próby losowej do szacowania wartości średniej [5 pkt]\n",
    "Przygotuj funkcję `minimal_sample_size_for_mean_estimation()`, która będzie dokonywała estymacji minimalnej liczebności próby na potrzeby estymacji przedziałowej wartości średniej dla danych wejściowych w postaci szeregu szczegółowego.\n",
    "\n",
    "Oprócz zwracanych minimalnej liczebności próby funkcja powinna wyświetlać następujący komunikat:\n",
    "\n",
    "`Minimalna liczebność próby niezbędna do estymacji wartości średniej na poziomie istotności 1-𝛼 = X z błędem estymacji Y wynosi Z`\n",
    "\n",
    "gdzie X, Y i Z są wartościami automatycznie uzupełnianymi przez funkcję. Pamiętaj, że liczebność próby jest liczbą całkowitą, powinna być zatem wyświetlana bez miejsc po przecinku."
   ]
  },
  {
   "cell_type": "code",
   "execution_count": 55,
   "id": "dea5e501-5be6-4392-974c-bef8ad5b1f60",
   "metadata": {
    "deletable": false,
    "nbgrader": {
     "cell_type": "code",
     "checksum": "cad9ab1abaac65aefa7d33e1a20ca191",
     "grade": false,
     "grade_id": "cell-dbaf4e2d168efbf5",
     "locked": false,
     "schema_version": 3,
     "solution": true,
     "task": false
    },
    "tags": []
   },
   "outputs": [],
   "source": [
    "def minimal_sample_size_for_mean_estimation(alpha, error_level, population_std=\"unknown\", initial_sample=\"none\"):\n",
    "    \"\"\"\n",
    "    Parameters\n",
    "    -------\n",
    "    alpha: float\n",
    "        Wartość określająca poziom istotności.\n",
    "    error_level: float\n",
    "        Założony poziom błędu estymacji.\n",
    "    population_std: str or float\n",
    "        Jeżeli odchylenie standardowe populacji nie jest znane to parametr przyjmuje wartość \"unknown\",\n",
    "        w przeciwnym wypadku jest to wartość określająca odchylenie standardowe populacji.\n",
    "    initial_sample: str or DataFrame\n",
    "        Zmienna zawierająca wartość \"none\" jeżeli znane jest odchylenie standardowe populacji,\n",
    "        a w przypadku, gdy nie jest ono znane DataFrame z domyślnym indeksem i pojedynczą kolumnę \"x\" z wynikami próby pilotażowej.\n",
    "    Returns\n",
    "    -------\n",
    "    n_min: int\n",
    "        Minimalna liczebność próby losowej.\n",
    "    \"\"\"\n",
    "    # YOUR CODE HERE\n",
    "    output = f\"Minimalna liczebność próby niezbędna do estymacji wartości średniej na poziomie istotności 1-𝛼 = {1-alpha} z błędem estymacji {error_level} wynosi \"\n",
    "    if population_std == \"unknown\":\n",
    "        var = np.var(initial_sample.x, ddof=1)\n",
    "        n_min = int(np.ceil(sp.stats.t.ppf(1-alpha/2, len(initial_sample)-1)**2 * var / error_level / error_level))\n",
    "        output += str(n_min)\n",
    "        print(output)\n",
    "        return n_min\n",
    "    n_min = int(np.ceil(sp.stats.norm.ppf(1-alpha/2)**2 * population_std * population_std / error_level / error_level))\n",
    "    output += str(n_min)\n",
    "    print(output)\n",
    "    return n_min"
   ]
  },
  {
   "cell_type": "code",
   "execution_count": 56,
   "id": "544148fb-7e3b-4502-b697-5b95623aeda4",
   "metadata": {
    "deletable": false,
    "editable": false,
    "nbgrader": {
     "cell_type": "code",
     "checksum": "fde50371718f9fcc45b12665dd2ec568",
     "grade": true,
     "grade_id": "cell-863008dba88c16d4",
     "locked": true,
     "points": 5,
     "schema_version": 3,
     "solution": false,
     "task": false
    },
    "tags": []
   },
   "outputs": [
    {
     "name": "stdout",
     "output_type": "stream",
     "text": [
      "Minimalna liczebność próby niezbędna do estymacji wartości średniej na poziomie istotności 1-𝛼 = 0.99 z błędem estymacji 0.5 wynosi 60\n",
      "Minimalna liczebność próby niezbędna do estymacji wartości średniej na poziomie istotności 1-𝛼 = 0.99 z błędem estymacji 0.5 wynosi 60\n",
      "Minimalna liczebność próby niezbędna do estymacji wartości średniej na poziomie istotności 1-𝛼 = 0.98 z błędem estymacji 5 wynosi 35\n",
      "Minimalna liczebność próby niezbędna do estymacji wartości średniej na poziomie istotności 1-𝛼 = 0.98 z błędem estymacji 5 wynosi 35\n"
     ]
    }
   ],
   "source": [
    "### Komórka testowa\n",
    "assert type(minimal_sample_size_for_mean_estimation(0.01, 0.5, population_std=1.5)) == int\n",
    "assert minimal_sample_size_for_mean_estimation(0.01, 0.5, population_std=1.5) == 60\n",
    "assert type(minimal_sample_size_for_mean_estimation(0.02, 5, initial_sample=test_data_1)) == int\n",
    "assert minimal_sample_size_for_mean_estimation(0.02, 5, initial_sample=test_data_1) == 35"
   ]
  },
  {
   "cell_type": "markdown",
   "id": "5c843786-b884-40b9-a509-a9149957e2cc",
   "metadata": {
    "deletable": false,
    "editable": false,
    "nbgrader": {
     "cell_type": "markdown",
     "checksum": "1f324676124350bcd73a9f9c7e8a7a74",
     "grade": false,
     "grade_id": "cell-de0638ff84db576b",
     "locked": true,
     "schema_version": 3,
     "solution": false,
     "task": false
    },
    "tags": []
   },
   "source": [
    "### Zadanie 6: Estymacja przedziałowa współczynnika korelacji liniowej Pearsona [5 pkt]\n",
    "\n",
    "Przygotuj funkcję `interval_correlation_estimation()`, która będzie dokonywała estymacji przedziałowej wartości współczynnika korelacji liniowej Pearsona dla danych wejściowych w postaci szeregu szczegółowego.\n",
    "\n",
    "Oprócz zwracanych wartości granic przedziału funkcja powinna wyświetlać następujący komunikat:\n",
    "\n",
    "`r należy do przedziału [X, Y] przy założeniu poziomu ufności 1-𝛼 = Z`\n",
    "\n",
    "gdzie X, Y i Z są automatycznie uzupełniane przez funkcję, a X i Y dodatkowo sformatowane w taki sposób, żeby wyświetlały się z dokładnością do 4 miejsc po przecinku."
   ]
  },
  {
   "cell_type": "code",
   "execution_count": 57,
   "id": "11f86b7c-3636-4ad6-930e-ecfc32720d0a",
   "metadata": {
    "deletable": false,
    "nbgrader": {
     "cell_type": "code",
     "checksum": "d2c7ce484eae10bad5c13bc7c8e2f337",
     "grade": false,
     "grade_id": "cell-a5090d2ee645cde5",
     "locked": false,
     "schema_version": 3,
     "solution": true,
     "task": false
    },
    "tags": []
   },
   "outputs": [],
   "source": [
    "def interval_correlation_estimation(data, alpha):\n",
    "    \"\"\"\n",
    "    Parameters\n",
    "    -------\n",
    "    data: DataFrame\n",
    "        Tablica zawierająca domyślny indeks i dwie kolumny \"x\" i \"y\" z wynikami próby losowej.\n",
    "    alpha: float\n",
    "        Wartość określająca poziom istotności.\n",
    "    Returns\n",
    "    -------\n",
    "    r_corr_low: float\n",
    "        Dolna granica wyliczonego przedziału ufności.\n",
    "    r_corr_high: float\n",
    "        Górna granica wyliczonego przedziału ufności.\n",
    "    \"\"\"   \n",
    "    # YOUR CODE HERE\n",
    "    r = np.corrcoef(data.x, data.y)[0,1]\n",
    "    z = np.arctanh(r)\n",
    "    r_corr_low = np.tanh(z - sp.stats.norm.ppf(1-alpha/2)/np.sqrt(len(data.x)-3))\n",
    "    r_corr_high = np.tanh(z + sp.stats.norm.ppf(1-alpha/2)/np.sqrt(len(data.x)-3))\n",
    "    print(f\"r należy do przedziału [{r_corr_low:.4f}, {r_corr_high:.4f}] przy założeniu poziomu ufności 1-𝛼 = {1-alpha}\")\n",
    "    return (r_corr_low, r_corr_high)"
   ]
  },
  {
   "cell_type": "code",
   "execution_count": 58,
   "id": "71a70a8d-5e06-4842-8b2d-d9baaf3a0e18",
   "metadata": {
    "deletable": false,
    "editable": false,
    "nbgrader": {
     "cell_type": "code",
     "checksum": "6f90eb6311f4ed44b0cebe7723022869",
     "grade": true,
     "grade_id": "cell-330b7531ddb61714",
     "locked": true,
     "points": 5,
     "schema_version": 3,
     "solution": false,
     "task": false
    },
    "tags": []
   },
   "outputs": [
    {
     "name": "stdout",
     "output_type": "stream",
     "text": [
      "r należy do przedziału [0.9138, 0.9832] przy założeniu poziomu ufności 1-𝛼 = 0.95\n",
      "r należy do przedziału [0.9000, 0.9856] przy założeniu poziomu ufności 1-𝛼 = 0.98\n"
     ]
    }
   ],
   "source": [
    "### Komórka testowa\n",
    "assert np.all(np.isclose(interval_correlation_estimation(test_data_2, 0.05), (0.9138226321562827, 0.9832137399625539)))\n",
    "assert np.all(np.isclose(interval_correlation_estimation(test_data_2, 0.02), (0.8999795459713682, 0.9856241637848772)))"
   ]
  },
  {
   "cell_type": "markdown",
   "id": "626b2c11-ab8d-48e0-a5d8-86b0eb4c152e",
   "metadata": {
    "deletable": false,
    "editable": false,
    "nbgrader": {
     "cell_type": "markdown",
     "checksum": "99b5a16a54ddbef5bfd58871b3c6b764",
     "grade": false,
     "grade_id": "cell-f63b47ad956be8df",
     "locked": true,
     "schema_version": 3,
     "solution": false,
     "task": false
    },
    "tags": []
   },
   "source": [
    "### Zadanie 7: Estymacja współczynników równania regresji liniowej [5 pkt]\n",
    "\n",
    "Przygotuj funkcję `interval_linear_regression_coefficients_estimation()`, która będzie dokonywała estymacji przedziałowej wartości współczynników równania regresji liniowej dla danych wejściowych w postaci szeregu szczegółowego.\n",
    "\n",
    "Oprócz zwracanych wartości granic przedziału funkcja powinna wyświetlać następujący komunikat:\n",
    "\n",
    "`a należy do przedziału [X1, Y1] przy założeniu poziomu ufności 1-𝛼 = Z1`\n",
    "`b należy do przedziału [X2, Y2] przy założeniu poziomu ufności 1-𝛼 = Z2`\n",
    "\n",
    "gdzie X1, X2, Y1, Y2, Z1 i Z2 są automatycznie uzupełniane przez funkcję, a X1, X2, Y1 i Y2 dodatkowo sformatowane w taki sposób, żeby wyświetlały się z dokładnością do 4 miejsc po przecinku."
   ]
  },
  {
   "cell_type": "code",
   "execution_count": 59,
   "id": "b15fc1db-4083-4784-bab6-303a4880904a",
   "metadata": {
    "deletable": false,
    "nbgrader": {
     "cell_type": "code",
     "checksum": "dc458192cd3f5e2dd135d02c6633f7ae",
     "grade": false,
     "grade_id": "cell-07e15feff03b9663",
     "locked": false,
     "schema_version": 3,
     "solution": true,
     "task": false
    },
    "tags": []
   },
   "outputs": [],
   "source": [
    "def interval_linear_regression_coefficients_estimation(data, alpha):\n",
    "    \"\"\"\n",
    "    Parameters\n",
    "    -------\n",
    "    data: DataFrame\n",
    "        Tablica zawierająca domyślny indeks i dwie kolumny \"x\" i \"y\" z wynikami próby losowej.\n",
    "    alpha: float\n",
    "        Wartość określająca poziom istotności.\n",
    "    Returns\n",
    "    -------\n",
    "    a_ci: tuple\n",
    "        Zmienna typu tuple zawierajaca granice przedziału ufności parametru a (a_low, a_high).\n",
    "    b_ci: tuple\n",
    "        Zmienna typu tuple zawierajaca granice przedziału ufności parametru b (b_low, b_high).\n",
    "    \"\"\"   \n",
    "    # YOUR CODE HERE\n",
    "    res = sp.stats.linregress(data.x, data.y)\n",
    "    a = res.slope\n",
    "    b = res.intercept\n",
    "    Da = res.stderr\n",
    "    Db = res.intercept_stderr\n",
    "    a_ci = (a - sp.stats.t.ppf(1-alpha/2, len(data.x)-2) * Da, a + sp.stats.t.ppf(1-alpha/2, len(data.x)-2) * Da)\n",
    "    b_ci = (b - sp.stats.t.ppf(1-alpha/2, len(data.x)-2) * Db, b + sp.stats.t.ppf(1-alpha/2, len(data.x)-2) * Db)\n",
    "    print(f\"a należy do przedziału [{a_ci[0]:.4f}, {a_ci[1]:.4f}] przy założeniu poziomu ufności 1-𝛼 = {1-alpha}\")\n",
    "    print(f\"b należy do przedziału [{b_ci[0]:.4f}, {b_ci[1]:.4f}] przy założeniu poziomu ufności 1-𝛼 = {1-alpha}\")\n",
    "    return (a_ci, b_ci)"
   ]
  },
  {
   "cell_type": "code",
   "execution_count": 60,
   "id": "842d9b96-833c-4c7b-a741-02fa48060c72",
   "metadata": {
    "deletable": false,
    "editable": false,
    "nbgrader": {
     "cell_type": "code",
     "checksum": "20484c21add2dfe74587d1b08433e1b7",
     "grade": true,
     "grade_id": "cell-9e0652eec7669223",
     "locked": true,
     "points": 5,
     "schema_version": 3,
     "solution": false,
     "task": false
    },
    "tags": []
   },
   "outputs": [
    {
     "name": "stdout",
     "output_type": "stream",
     "text": [
      "a należy do przedziału [1.8611, 2.2832] przy założeniu poziomu ufności 1-𝛼 = 0.9\n",
      "b należy do przedziału [-5.5037, -3.7485] przy założeniu poziomu ufności 1-𝛼 = 0.9\n",
      "\n",
      "a należy do przedziału [1.8174, 2.3269] przy założeniu poziomu ufności 1-𝛼 = 0.95\n",
      "b należy do przedziału [-5.6854, -3.5668] przy założeniu poziomu ufności 1-𝛼 = 0.95\n"
     ]
    }
   ],
   "source": [
    "### Komórka testowa\n",
    "assert np.all(np.isclose(interval_linear_regression_coefficients_estimation(test_data_2, 0.1), ((1.861113622111233, 2.283229248370173), (-5.503743260527376, -3.7484529194847234))))\n",
    "print()\n",
    "assert np.all(np.isclose(interval_linear_regression_coefficients_estimation(test_data_2, 0.05), ((1.8174228474380838, 2.3269200230433222), (-5.68542332638072, -3.5667728536313796))))"
   ]
  },
  {
   "cell_type": "markdown",
   "id": "d2883bc1-2b8d-4146-8663-97613a98eaff",
   "metadata": {
    "deletable": false,
    "editable": false,
    "nbgrader": {
     "cell_type": "markdown",
     "checksum": "13bd3fe316566aa3a46fd15b56eba95b",
     "grade": false,
     "grade_id": "cell-58242724098404fd",
     "locked": true,
     "schema_version": 3,
     "solution": false,
     "task": false
    },
    "tags": []
   },
   "source": [
    "### Zadanie 8: Estymacja przedziałowa regresji liniowej [10 pkt]\n",
    "\n",
    "Przygotuj funkcję `interval_linear_regression_estimation()`, która będzie dokonywała estymacji przedziału ufności i przedziału predykcji regresji liniowej dla danych wejściowych w postaci szeregu szczegółowego.\n",
    "Zaprojektuj funkcję w taki sposób, aby obliczała wartości przedziałów dla 100 wartości x równo rozłożonych od minimalnej do maksymalnej wartości x z danych wejściowych.\n",
    "\n",
    "Następnie wykorzystaj przygotowaną funkcję do wyznaczenia przedziałów na załączonych do zadania danych i przedstaw wyniki na pojedynczym wykresie. W obliczeniach przyjmij wybrany przez siebie poziomie istotności. Przygotuj figurę zgodnie z wytycznymi z nagłówka notatnika. Dodatkowo:\n",
    "- zawrzyj na wykresie punkty, na których była prowadzona analiza, prostą regresji, granice przedziału ufności oraz granice przedziału predykcji,\n",
    "- wyróżnij poszczególne elementy wykresu (w tym znajdujące się na nim punkty) różnymi kolorami (granice poszczególnych przedziałów w tym samym kolorze) i formamy linii (ciągła dla prostej regresjii, przerywane dla granic przedziałów),\n",
    "- dodaj do figury legendę opisującą wszystkie elementy wykresu. Umieść w legendzie informację o wyznaczonym równaniu regresji (współczynniki sformatowane do 4 miejsc po przecinku) oraz wartości współczynnika ufności (sformatowane do 3 miejsc po przecinku) dla którego były wyznaczane przedziały."
   ]
  },
  {
   "cell_type": "code",
   "execution_count": 61,
   "id": "d6c89ed2-a5ef-4f03-85f1-b245d60384b9",
   "metadata": {
    "deletable": false,
    "nbgrader": {
     "cell_type": "code",
     "checksum": "6434e88c026691076483a1471f6ab78c",
     "grade": false,
     "grade_id": "cell-04dbe3c917594f2b",
     "locked": false,
     "schema_version": 3,
     "solution": true,
     "task": false
    },
    "tags": []
   },
   "outputs": [],
   "source": [
    "def interval_linear_regression_estimation(data, alpha):\n",
    "    \"\"\"\n",
    "    Parameters\n",
    "    -------\n",
    "    data: DataFrame\n",
    "        Tablica zawierająca domyślny indeks i dwie kolumny \"x\" i \"y\" z wynikami próby losowej.\n",
    "    alpha: float\n",
    "        Wartość określająca poziom istotności.\n",
    "    Returns\n",
    "    -------\n",
    "    a: float\n",
    "        Współczynnik równania regresji (slope).\n",
    "    b: float\n",
    "        Współczynnik równania regresji (intercept).\n",
    "    results: DataFrame\n",
    "        Tablica zawierająca domyślny indeks oraz następujące kolumny:\n",
    "        x - wartości zmiennej niezależnaj, dla których określamy granice przedziału,\n",
    "        y_reg - wartości y wyliczone na podstawie wartości x z wykorzystaniem wyliczonego równania regresji liniowej,\n",
    "        ci_high - górne granice przedziału ufności,\n",
    "        ci_low - dolne granice przedziału ufności,\n",
    "        pi_high - górne granice przedziału predykcji,\n",
    "        pi_low - dolne granice przedziału predykcji.\n",
    "    \"\"\"  \n",
    "    # YOUR CODE HERE\n",
    "    res = sp.stats.linregress(data.x, data.y)\n",
    "    a = res.slope\n",
    "    b = res.intercept\n",
    "    results = pd.DataFrame()\n",
    "    results[\"x\"] = np.linspace(data.x.min(), data.x.max(), 100)\n",
    "    results[\"y_reg\"] = a*results.x + b\n",
    "\n",
    "    var = 1 / (len(data.x) - 2) * np.sum((data.y - a*data.x - b)*(data.y - a*data.x - b))\n",
    "    Dy = np.sqrt(var) * np.sqrt(1/len(data.x) + (results.x - data.x.mean())**2 / np.sum((data.x - data.x.mean())**2))\n",
    "    results[\"ci_high\"] = results.x*a + b + sp.stats.t.ppf(1-alpha/2, len(data.x)-2) * Dy\n",
    "    results[\"ci_low\"] = results.x*a + b - sp.stats.t.ppf(1-alpha/2, len(data.x)-2) * Dy\n",
    "\n",
    "    Dy_p = np.sqrt(var) * np.sqrt(1 + 1/len(data.x) + (results.x - data.x.mean())**2 / np.sum((data.x - data.x.mean())**2))\n",
    "    results[\"pi_high\"] = results.x*a + b + sp.stats.t.ppf(1-alpha/2, len(data.x)-2) * Dy_p\n",
    "    results[\"pi_low\"] = results.x*a + b - sp.stats.t.ppf(1-alpha/2, len(data.x)-2) * Dy_p\n",
    "\n",
    "    return (a, b, results)\n"
   ]
  },
  {
   "cell_type": "code",
   "execution_count": 62,
   "id": "ee7ef308-12c4-4beb-867d-d423dff3a090",
   "metadata": {
    "deletable": false,
    "editable": false,
    "nbgrader": {
     "cell_type": "code",
     "checksum": "3ed82229931ba20735e975fc4d1a5945",
     "grade": true,
     "grade_id": "cell-ef82e28a9ad30a24",
     "locked": true,
     "points": 6,
     "schema_version": 3,
     "solution": false,
     "task": false
    },
    "tags": []
   },
   "outputs": [],
   "source": [
    "### Komórka testowa\n",
    "a, b , results = interval_linear_regression_estimation(test_data_2, 0.05)\n",
    "assert np.isclose(a, 2.072171435240703)\n",
    "assert np.isclose(b, -4.6260980900060495)\n",
    "assert results.shape == (100, 6)\n",
    "assert len(set(list(results.columns)) & set(['x', 'y_reg', 'ci_high', 'ci_low', 'pi_high', 'pi_low'])) == 6\n",
    "assert np.all(np.isclose(results[['x', 'y_reg', 'ci_high', 'ci_low', 'pi_high', 'pi_low']].min().values, np.array([-1.8657939, -8.49234292, -7.06370958, -9.92097626, -4.39199716, -12.59268868]))) == True\n",
    "assert np.all(np.isclose(results[['x', 'y_reg', 'ci_high', 'ci_low', 'pi_high', 'pi_low']].max().values, np.array([7.4114666, 10.73173129, 12.12260347, 9.34085912, 14.81907365, 6.64438894]))) == True\n",
    "assert np.all(np.isclose(results[['x', 'y_reg', 'ci_high', 'ci_low', 'pi_high', 'pi_low']].mean().values, np.array([2.77283635, 1.11969419, 2.13259929, 0.10678908, 5.09904685, -2.85965848]))) == True"
   ]
  },
  {
   "cell_type": "code",
   "execution_count": 63,
   "id": "3e1aedd0-a042-4c58-a2cb-36fc13e187e3",
   "metadata": {
    "deletable": false,
    "editable": false,
    "nbgrader": {
     "cell_type": "code",
     "checksum": "0a4782e788ed94a2fd566294c5473f77",
     "grade": false,
     "grade_id": "cell-4f514e2325b8dcc2",
     "locked": true,
     "schema_version": 3,
     "solution": false,
     "task": false
    },
    "tags": []
   },
   "outputs": [
    {
     "data": {
      "text/plain": "          x          y\n0  4.804491   4.379953\n1  3.065440   3.600776\n2  7.543218  -5.774798\n3 -0.817917  11.715536\n4  7.226797  -2.497470",
      "text/html": "<div>\n<style scoped>\n    .dataframe tbody tr th:only-of-type {\n        vertical-align: middle;\n    }\n\n    .dataframe tbody tr th {\n        vertical-align: top;\n    }\n\n    .dataframe thead th {\n        text-align: right;\n    }\n</style>\n<table border=\"1\" class=\"dataframe\">\n  <thead>\n    <tr style=\"text-align: right;\">\n      <th></th>\n      <th>x</th>\n      <th>y</th>\n    </tr>\n  </thead>\n  <tbody>\n    <tr>\n      <th>0</th>\n      <td>4.804491</td>\n      <td>4.379953</td>\n    </tr>\n    <tr>\n      <th>1</th>\n      <td>3.065440</td>\n      <td>3.600776</td>\n    </tr>\n    <tr>\n      <th>2</th>\n      <td>7.543218</td>\n      <td>-5.774798</td>\n    </tr>\n    <tr>\n      <th>3</th>\n      <td>-0.817917</td>\n      <td>11.715536</td>\n    </tr>\n    <tr>\n      <th>4</th>\n      <td>7.226797</td>\n      <td>-2.497470</td>\n    </tr>\n  </tbody>\n</table>\n</div>"
     },
     "execution_count": 63,
     "metadata": {},
     "output_type": "execute_result"
    }
   ],
   "source": [
    "# Dane do wykresu\n",
    "x = sp.stats.uniform.rvs(loc=-3, scale=12, size=50, random_state=18)\n",
    "y = -1.25*x + 7 + sp.stats.norm.rvs(loc=0, scale=3, size=50, random_state=67)\n",
    "data = pd.DataFrame(data=np.array([x, y]).T, columns=[\"x\", \"y\"])\n",
    "data.head()"
   ]
  },
  {
   "cell_type": "code",
   "execution_count": 64,
   "id": "ba20dca1-0a89-43df-8f3f-2479ad35791f",
   "metadata": {
    "deletable": false,
    "nbgrader": {
     "cell_type": "code",
     "checksum": "6a6a783487053dd1289225781a52c5e4",
     "grade": true,
     "grade_id": "cell-ecb421dfbf3d197e",
     "locked": false,
     "points": 4,
     "schema_version": 3,
     "solution": true,
     "task": false
    },
    "tags": []
   },
   "outputs": [
    {
     "data": {
      "text/plain": "<matplotlib.legend.Legend at 0x1dd7dd25c10>"
     },
     "execution_count": 64,
     "metadata": {},
     "output_type": "execute_result"
    },
    {
     "data": {
      "text/plain": "<Figure size 800x800 with 1 Axes>",
      "image/png": "[encoded data removed]"
     },
     "metadata": {},
     "output_type": "display_data"
    }
   ],
   "source": [
    "# Wykres\n",
    "# YOUR CODE HERE\n",
    "alpha = 0.05\n",
    "a, b, results = interval_linear_regression_estimation(data, alpha)\n",
    "\n",
    "fig, ax = plt.subplots(1,1, figsize=(8,8), facecolor=\"white\")\n",
    "ax.set_facecolor(\"white\")\n",
    "ax.set_title(\"Prosta regresji liniowej wraz z wyznaczonymi przedziałami ufności i predykcji\")\n",
    "ax.set_xlabel(\"x\")\n",
    "ax.set_ylabel(\"y\")\n",
    "\n",
    "ax.scatter(data.x, data.y, c=\"gray\", label=\"Punkty\", s=5)\n",
    "ax.plot(results.x, results.y_reg, c=\"red\", label=f\"Równanie regresji: y = {a:.4f}x + {b:.4f}\")\n",
    "\n",
    "# Nie wiem jak ten label ma dokładnie wyglądać. W procentach i trzy miejsca po przecinku?\n",
    "ax.plot(results.x, results.ci_high, c=\"darkblue\", linestyle=\"dashed\", label=f\"{(1-alpha)*100:.3f}% przedział ufności\")\n",
    "ax.plot(results.x, results.ci_low, c=\"darkblue\", linestyle=\"dashed\")\n",
    "\n",
    "ax.plot(results.x, results.pi_high, c=\"darkgreen\", linestyle=\"dashed\", label=f\"{(1-alpha)*100:.3f}% przedział predykcji\")\n",
    "ax.plot(results.x, results.pi_low, c=\"darkgreen\", linestyle=\"dashed\")\n",
    "ax.legend()"
   ]
  },
  {
   "cell_type": "markdown",
   "source": [],
   "metadata": {
    "collapsed": false
   }
  }
 ],
 "metadata": {
  "kernelspec": {
   "display_name": "Python 3 (ipykernel)",
   "language": "python",
   "name": "python3"
  },
  "language_info": {
   "codemirror_mode": {
    "name": "ipython",
    "version": 3
   },
   "file_extension": ".py",
   "mimetype": "text/x-python",
   "name": "python",
   "nbconvert_exporter": "python",
   "pygments_lexer": "ipython3",
   "version": "3.10.7"
  }
 },
 "nbformat": 4,
 "nbformat_minor": 5
}
