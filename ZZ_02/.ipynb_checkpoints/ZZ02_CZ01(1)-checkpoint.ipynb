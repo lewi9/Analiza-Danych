{
 "cells": [
  {
   "cell_type": "markdown",
   "id": "656a270c",
   "metadata": {
    "deletable": false,
    "editable": false,
    "nbgrader": {
     "cell_type": "markdown",
     "checksum": "4d87ed846e09cbf1c8eae4e0f16bea9b",
     "grade": false,
     "grade_id": "cell-fcd2666579131b77",
     "locked": true,
     "schema_version": 3,
     "solution": false,
     "task": false
    },
    "tags": []
   },
   "source": [
    "# Analiza danych w języku Python - ćwiczenia laboratoryjne 2022/2023\n",
    "\n",
    "Ten notatnik zalicza się do grupy zestawów zadań, na podstawie których odbywa się zaliczenie ćwiczeń i podlega zwrotowi do oceny w ustalonym na zajęciach terminie.\n",
    "\n",
    "Uwagi i wytyczne ogólne dotyczące uzupełniania i oceny notatnika:\n",
    "- Podczas wykonywania zadań należy korzystać wyłącznie z pakietów zaimportowanych na początku notatnika oraz z pakietów wchodzących w skład standardowej biblioteki Pythona, które można zaimportować samodzielnie we wskazanej komórce notatnika.\n",
    "- Swoje rozwiązania należy wprowadzać wyłącznie w miejce następujących fragmentów kodu:<br/> `# YOUR CODE HERE`<br/> `raise NotImplementedError()`<br/> \n",
    "a odpowiedzi tekstowe w komórkach oznaczonych hasłem:<br/> \n",
    "`YOUR ANSWER HERE`<br/> \n",
    "Nie należy w żaden sposób modyfikować pozostałych fragmentów kodu oraz innych elementów notatnika, w szczególności dodawać lub usuwać komórek oraz zmieniać nazwy pliku.\n",
    "- Jeżeli zestaw zadań wymaga skorzystania z fragmentów kodu opracowanego w ramach wcześniejszych zestawów zadań należy je umieścić we wskazanej komórce notatnika.\n",
    "- Otrzymywane wyniki i odpowiedzi mają być rezultatem wykonania napisanego kodu, odpowiedzi uzupełniane manualnie nie podlegają ocenie.\n",
    "- Zadanie należy wykonać w taki sposób, aby podczas wykonywania kodu nie zostały wyświetlone żadne ostrzeżenia.\n",
    "- Zawarte w notatniku automatyczne testy mają charakter poglądowy. Dotyczą one wybranych aspektów zadań i mają za zadanie wyłapać podstawowe błędy. Przejście wszystkich testów nie oznacza, że zadanie jest wykonane w całości poprawnie i zostanie ocenione na maksymalną liczbę punktów.\n",
    "- Zadania, które powodują wyświetlenie komunikatu o błędzie przerywającym wykonywanie kodu nie podlegają ocenie.\n",
    "\n",
    "Uwagi i wytyczne ogólne dotyczące wizualizacji wyników:\n",
    "- Wszystkie wykresy powinny być wykonane w jednolitym, przejrzystym i czytelnym stylu, posiadać odpowiednio dobrane proporcje i zakresy wartości osi.\n",
    "- Wykresy oraz ich osie powinny mieć nadane tytuły. Jeżeli w obrębie figury znajduje się więcej niż jeden wykres to figura również powinna mieć nadany tytuł. \n",
    "- Figury powinny mieć ustawione białe tło, tak, aby niezależnie od ustawień notatnika wszystkie elementy wykresów były dobrze widoczne (domyślnie tło jest przeźroczyste co może powodować problemy w notatnikach z ustawionym ciemnym tłem).\n",
    "- Rozmiar poziomy figur nie powinien przekraczać 20 cali.\n",
    "\n",
    "Przed odesłaniem zestawu zadań do oceny proszę uzupełnić komórkę z danymi autorów rozwiązania (`NAME` - nazwa zespołu, `COLLABORATORS` - imiona, nazwiska i numery indeksów członków zespołu) oraz upewnić się, że notatnik działa zgodnie z oczekiwaniami. W tym celu należy skorzystać z opcji **Restart Kernel and Run All Cells...** dostępnej na górnej belce notatnika pod symbolem $\\blacktriangleright\\blacktriangleright$."
   ]
  },
  {
   "cell_type": "code",
   "execution_count": 1,
   "id": "a7de93c4",
   "metadata": {},
   "outputs": [],
   "source": [
    "NAME = \"IAD25\"\n",
    "COLLABORATORS = \"Małgorzata Serwańska 405044, Adam Lewiński 407657\""
   ]
  },
  {
   "cell_type": "markdown",
   "id": "04e2e06d",
   "metadata": {
    "deletable": false,
    "editable": false,
    "nbgrader": {
     "cell_type": "markdown",
     "checksum": "eddc8826810e4a6f7bf68319da334bd9",
     "grade": false,
     "grade_id": "cell-109006d425e5cf83",
     "locked": true,
     "schema_version": 3,
     "solution": false,
     "task": false
    },
    "tags": []
   },
   "source": [
    "---"
   ]
  },
  {
   "cell_type": "markdown",
   "id": "690fa3ee",
   "metadata": {
    "deletable": false,
    "editable": false,
    "nbgrader": {
     "cell_type": "markdown",
     "checksum": "8429f7812aab1ab3cf754b79c365deb5",
     "grade": false,
     "grade_id": "cell-21ac76da9323c36f",
     "locked": true,
     "schema_version": 3,
     "solution": false,
     "task": false
    },
    "tags": []
   },
   "source": [
    "## Zestaw zadań 2: Elementy statystyki opisowej 2 (Notatnik 1/4)"
   ]
  },
  {
   "cell_type": "code",
   "execution_count": 5,
   "id": "5f4978e4",
   "metadata": {
    "deletable": false,
    "editable": false,
    "nbgrader": {
     "cell_type": "code",
     "checksum": "13fce11c9aa1c5bf83764c476647dd97",
     "grade": false,
     "grade_id": "cell-4a5af93ac80c2e34",
     "locked": true,
     "schema_version": 3,
     "solution": false,
     "task": false
    },
    "tags": []
   },
   "outputs": [],
   "source": [
    "import numpy as np\n",
    "import pandas as pd\n",
    "import scipy as sp\n",
    "import matplotlib as mpl\n",
    "import matplotlib.pyplot as plt\n",
    "import seaborn as sns\n",
    "import dataframe_image as dfi"
   ]
  },
  {
   "cell_type": "code",
   "execution_count": null,
   "id": "97134ed0",
   "metadata": {},
   "outputs": [],
   "source": [
    "# Miejsce do importu pakietów wchodzących w skład standardowej biblioteki Pythona oraz ustawienie opcji wykorzystywanych pakietów"
   ]
  },
  {
   "cell_type": "markdown",
   "id": "274bd485",
   "metadata": {
    "deletable": false,
    "editable": false,
    "nbgrader": {
     "cell_type": "markdown",
     "checksum": "2ea2aac5d88200f03181119128b8de68",
     "grade": false,
     "grade_id": "cell-8251a8dc1dba0354",
     "locked": true,
     "schema_version": 3,
     "solution": false,
     "task": false
    },
    "tags": []
   },
   "source": [
    "### Zadanie 1: Przygotowanie danych [10 pkt]\n",
    "\n",
    "Pliki raw_data_1.csv, raw_data_2.csv i raw_data_3.xlsx zawierają dane pobrane ze stron:</br>\n",
    "https://databank.worldbank.org/,</br>\n",
    "https://unstats.un.org/UNSDWebsite/,</br>\n",
    "https://datahelpdesk.worldbank.org/knowledgebase/articles/906519-world-bank-country-and-lending-groups.\n",
    "\n",
    "Zaimportuj zawarte w plikach dane do notatnika i utwórz na ich podstawie tablicę `recession_data_1` wykonaną według następujących wytycznych:\n",
    "\n",
    "- Tablica powinna zawierać wyłącznie następujące elementy:</br>\n",
    "    Indeks: Country Code</br>\n",
    "        Wiersze powinny być indeksowane trzyliterowymi kodami krajów.</br>\n",
    "    Kolumny: Country Name, Country Region, Income Group, 2006, 2007, 2008, 2009, 2010, 2011 (w tej kolejności, lata w nagłówkach jako zmienne typu str)</br>\n",
    "        Kolumna Income Group zawiera informację o stopniu zamożności państwa wg danych z 2008 roku.\n",
    "        Kolumny 2006-2011 zawierają wartości wskaźnika GDP growth (annual %) dla poszczególnych lat.\n",
    "- Zmień występujące w kolumnie Income Category kody (H, UM, LM, L) na pełne wyrażenia (High, Upper middle, Lower middle, Low).\n",
    "- Tablica nie powinna zawierać wierszy, w których znajdują się wartości NaN (w dowolnej kolumnie) oraz wiersza dotyczącego Libii.\n",
    "\n",
    "Zapisz tablicę do pliku recession_data_1.csv.\n",
    "\n",
    "Wyświetl przygotowaną tablicę w taki sposób aby widoczne było po 5 pierwszych i ostatnich wierszy, a zawarte w tablicy liczby (za wyjątkiem lat w nagłówkach kolumn) wyświetlały się z dokładnością do 2 miejsca po przecinku."
   ]
  },
  {
   "cell_type": "code",
   "execution_count": 85,
   "id": "2c79cfba",
   "metadata": {
    "deletable": false,
    "nbgrader": {
     "cell_type": "code",
     "checksum": "69701381bad47b312d4a37590f131714",
     "grade": false,
     "grade_id": "cell-aa85199b5cb633d2",
     "locked": false,
     "schema_version": 3,
     "solution": true,
     "task": false
    },
    "tags": []
   },
   "outputs": [],
   "source": [
    "# YOUR CODE HERE\n",
    "dane1 = pd.read_csv(\"raw_data_1.csv\", na_values=\"..\")\n",
    "dane2 = pd.read_csv(\"raw_data_2.csv\", sep=\";\", on_bad_lines='skip')\n",
    "dane3 = pd.read_excel(\"raw_data_3.xlsx\", sheet_name=\"Country Analytical History\")\n",
    "dane3 = dane3.iloc[10:228, [0,23]]\n",
    "dane3 = dane3.rename(columns={\"Unnamed: 0\": \"Country Code\"})\n",
    "dane3 = dane3.set_index(\"Country Code\")\n",
    "\n",
    "df = pd.DataFrame()\n",
    "df[\"Country Code\"] = dane1[\"Country Code\"].dropna()\n",
    "df[\"Country Name\"] = dane1[\"Country Name\"]\n",
    "df = df.join(dane2.set_index(\"ISO-alpha3 Code\")[\"Region Name\"], on=\"Country Code\")\n",
    "df = df.join(dane3, on = \"Country Code\")\n",
    "df = df.rename(columns = {\"Unnamed: 23\": \"Income Group\"})\n",
    "df = df.replace(\"..\", np.nan)\n",
    "\n",
    "for i in range(2006, 2012):\n",
    "    df[f\"{i}\"] = dane1[f\"{i} [YR{i}]\"]\n",
    "df.set_index(\"Country Code\", inplace = True)\n",
    "df = df.drop(df[df[\"Country Name\"] == \"Libya\"].index)\n",
    "df.dropna(inplace=True)\n",
    "\n",
    "df.replace({\"Income Group\": {\"L\": \"Low\", \"LM\": \"Lower middle\", \"UM\": \"Upper middle\", \"H\": \"High\"}}, inplace = True)\n",
    "\n",
    "recession_data_1 = df\n",
    "recession_data_1.to_csv(\"recession_data_1.csv\")\n",
    "recession_data_1 = pd.read_csv(\"recession_data_1.csv\", index_col=\"Country Code\")"
   ]
  },
  {
   "cell_type": "code",
   "execution_count": 86,
   "id": "776bbca9",
   "metadata": {
    "deletable": false,
    "editable": false,
    "nbgrader": {
     "cell_type": "code",
     "checksum": "1bdf4a3c2a76fd40f00dabef30e7c3de",
     "grade": true,
     "grade_id": "cell-683b0a3c6c74d0c6",
     "locked": true,
     "points": 10,
     "schema_version": 3,
     "solution": false,
     "task": false
    },
    "tags": []
   },
   "outputs": [],
   "source": [
    "### Komórka testowa\n",
    "# Test 1 Kształt tablicy\n",
    "assert recession_data_1.shape == (198, 9)\n",
    "# Test 2 Kolumny\n",
    "assert len(set(list(recession_data_1.columns)) & set(['Country Name', 'Region Name', 'Income Group', '2006', '2007', '2008', '2009', '2010', '2011'])) == 9\n",
    "# Test 3 Indeks\n",
    "assert (recession_data_1.index.name == 'Country Code') == True\n",
    "assert recession_data_1.index.values.min() == 'ABW'\n",
    "assert recession_data_1.index.values.max() == 'ZWE'\n",
    "assert np.all(recession_data_1.index.values != 'LBY') == True\n",
    "# Test 4 Zawartość kolumn tekstowych\n",
    "assert np.all([set(recession_data_1[\"Region Name\"].unique()) == set(['Asia', 'Europe', 'Africa', 'Oceania', 'Americas'])])\n",
    "assert np.all([recession_data_1[\"Region Name\"].value_counts().values == [50, 49, 43, 40, 16]])\n",
    "assert np.all([set(recession_data_1[\"Income Group\"].unique()) == set(['Low', 'Lower middle', 'Upper middle', 'High'])])\n",
    "assert np.all([recession_data_1[\"Income Group\"].value_counts().values == [60, 53, 44, 41]])\n",
    "# Test 5 Zawartość kolumn liczbowych\n",
    "assert np.all(np.isclose(recession_data_1[['2006', '2007', '2008', '2009', '2010', '2011']].min().values, np.array([ -6.87146322, -6.68402778, -17.66894633,\n",
    "                                                                                                                    -17.57322176, -8.92417589, -12.7148969 ]))) == True\n",
    "assert np.all(np.isclose(recession_data_1[['2006', '2007', '2008', '2009', '2010', '2011']].max().values, np.array([34.5 , 24.99999985, 17.79910913, 21.39052839,\n",
    "                                                                                                                    25.12275964, 21.61652888]))) == True"
   ]
  },
  {
   "cell_type": "code",
   "execution_count": null,
   "id": "c7199305",
   "metadata": {},
   "outputs": [],
   "source": []
  }
 ],
 "metadata": {
  "kernelspec": {
   "display_name": "Python 3 (ipykernel)",
   "language": "python",
   "name": "python3"
  },
  "language_info": {
   "codemirror_mode": {
    "name": "ipython",
    "version": 3
   },
   "file_extension": ".py",
   "mimetype": "text/x-python",
   "name": "python",
   "nbconvert_exporter": "python",
   "pygments_lexer": "ipython3",
   "version": "3.10.6"
  }
 },
 "nbformat": 4,
 "nbformat_minor": 5
}
