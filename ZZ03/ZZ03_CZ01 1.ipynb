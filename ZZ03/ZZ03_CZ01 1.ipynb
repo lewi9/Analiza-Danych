{
  "cells": [
    {
      "cell_type": "markdown",
      "source": [
        "# Analiza danych w języku Python - ćwiczenia laboratoryjne 2022/2023\n",
        "\n",
        "Ten notatnik zalicza się do grupy zestawów zadań, na podstawie których odbywa się zaliczenie ćwiczeń i podlega zwrotowi do oceny w ustalonym na zajęciach terminie.\n",
        "\n",
        "Uwagi i wytyczne ogólne dotyczące uzupełniania i oceny notatnika:\n",
        "- Podczas wykonywania zadań należy korzystać wyłącznie z pakietów zaimportowanych na początku notatnika oraz z pakietów wchodzących w skład standardowej biblioteki Pythona, które można zaimportować samodzielnie we wskazanej komórce notatnika.\n",
        "- Swoje rozwiązania należy wprowadzać wyłącznie w miejce następujących fragmentów kodu:<br/> `# YOUR CODE HERE`<br/> `raise NotImplementedError()`<br/> \n",
        "a odpowiedzi tekstowe w komórkach oznaczonych hasłem:<br/> \n",
        "`YOUR ANSWER HERE`<br/> \n",
        "Nie należy w żaden sposób modyfikować pozostałych fragmentów kodu oraz innych elementów notatnika, w szczególności dodawać lub usuwać komórek oraz zmieniać nazwy pliku.\n",
        "- Jeżeli zestaw zadań wymaga skorzystania z fragmentów kodu opracowanego w ramach wcześniejszych zestawów zadań należy je umieścić we wskazanej komórce notatnika.\n",
        "- Otrzymywane wyniki i odpowiedzi mają być rezultatem wykonania napisanego kodu, odpowiedzi uzupełniane manualnie nie podlegają ocenie.\n",
        "- Zadanie należy wykonać w taki sposób, aby podczas wykonywania kodu nie zostały wyświetlone żadne ostrzeżenia.\n",
        "- Zawarte w notatniku automatyczne testy mają charakter poglądowy. Dotyczą one wybranych aspektów zadań i mają za zadanie wyłapać podstawowe błędy. Przejście wszystkich testów nie oznacza, że zadanie jest wykonane w całości poprawnie i zostanie ocenione na maksymalną liczbę punktów.\n",
        "- Zadania, które powodują wyświetlenie komunikatu o błędzie przerywającym wykonywanie kodu nie podlegają ocenie.\n",
        "\n",
        "Uwagi i wytyczne ogólne dotyczące wizualizacji wyników:\n",
        "- Wszystkie wykresy powinny być wykonane w jednolitym, przejrzystym i czytelnym stylu, posiadać odpowiednio dobrane proporcje i zakresy wartości osi.\n",
        "- Wykresy oraz ich osie powinny mieć nadane tytuły. Jeżeli w obrębie figury znajduje się więcej niż jeden wykres to figura również powinna mieć nadany tytuł. \n",
        "- Figury powinny mieć ustawione białe tło, tak, aby niezależnie od ustawień notatnika wszystkie elementy wykresów były dobrze widoczne (domyślnie tło jest przeźroczyste co może powodować problemy w notatnikach z ustawionym ciemnym tłem).\n",
        "- Rozmiar poziomy figur nie powinien przekraczać 20 cali.\n",
        "\n",
        "Przed odesłaniem zestawu zadań do oceny proszę uzupełnić komórkę z danymi autorów rozwiązania (`NAME` - nazwa zespołu, `COLLABORATORS` - imiona, nazwiska i numery indeksów członków zespołu) oraz upewnić się, że notatnik działa zgodnie z oczekiwaniami. W tym celu należy skorzystać z opcji **Restart Kernel and Run All Cells...** dostępnej na górnej belce notatnika pod symbolem $\\blacktriangleright\\blacktriangleright$."
      ],
      "metadata": {
        "deletable": false,
        "editable": false,
        "nbgrader": {
          "cell_type": "markdown",
          "checksum": "4d87ed846e09cbf1c8eae4e0f16bea9b",
          "grade": false,
          "grade_id": "cell-fcd2666579131b77",
          "locked": true,
          "schema_version": 3,
          "solution": false,
          "task": false
        },
        "tags": []
      },
      "id": "1f03cdc0"
    },
    {
      "cell_type": "code",
      "source": [
        "NAME = \"\"\n",
        "COLLABORATORS = \"Adam Lewiński 407657 Małgorzata Serwańska 405044\""
      ],
      "outputs": [],
      "execution_count": 1,
      "metadata": {},
      "id": "f7209940"
    },
    {
      "cell_type": "markdown",
      "source": [
        "---"
      ],
      "metadata": {
        "deletable": false,
        "editable": false,
        "nbgrader": {
          "cell_type": "markdown",
          "checksum": "eddc8826810e4a6f7bf68319da334bd9",
          "grade": false,
          "grade_id": "cell-109006d425e5cf83",
          "locked": true,
          "schema_version": 3,
          "solution": false,
          "task": false
        },
        "tags": []
      },
      "id": "1fa9cff2"
    },
    {
      "cell_type": "markdown",
      "source": [
        "## Zestaw zadań 3: Elementy statystyki opisowej 3 (Notatnik 1/4)"
      ],
      "metadata": {
        "deletable": false,
        "editable": false,
        "nbgrader": {
          "cell_type": "markdown",
          "checksum": "bb2121d9398c589c477395f3e2cbe057",
          "grade": false,
          "grade_id": "cell-21ac76da9323c36f",
          "locked": true,
          "schema_version": 3,
          "solution": false,
          "task": false
        },
        "tags": []
      },
      "id": "fe74743f-1998-4812-ac65-974bd8469d8d"
    },
    {
      "cell_type": "code",
      "source": [
        "import numpy as np\n",
        "import pandas as pd\n",
        "import scipy as sp\n",
        "import matplotlib as mpl\n",
        "import matplotlib.pyplot as plt\n",
        "import seaborn as sns\n",
        "import dataframe_image as dfi"
      ],
      "outputs": [],
      "execution_count": 2,
      "metadata": {
        "deletable": false,
        "editable": false,
        "nbgrader": {
          "cell_type": "code",
          "checksum": "13fce11c9aa1c5bf83764c476647dd97",
          "grade": false,
          "grade_id": "cell-4a5af93ac80c2e34",
          "locked": true,
          "schema_version": 3,
          "solution": false,
          "task": false
        },
        "tags": []
      },
      "id": "7f9968ab-aec5-4893-b0ad-34121d66004f"
    },
    {
      "cell_type": "code",
      "source": [
        "import datetime"
      ],
      "outputs": [],
      "execution_count": 3,
      "metadata": {},
      "id": "c444ab45-1fe7-4008-8c3c-2b1b526a1fbc"
    },
    {
      "cell_type": "markdown",
      "source": [
        "### Zadanie 1: Przygotowanie danych [10 pkt]\n",
        "\n",
        "Pliki bike_traffic_raw_data.csv, 2022_01.txt, 2022_02.txt ...  2022_12.txt zawierają dane pobrane ze stron:</br>\n",
        "https://data.seattle.gov/Transportation/Fremont-Bridge-Bicycle-Counter/65db-xm6k,</br>\n",
        "https://forecast.weather.gov/product.php?site=SEW&product=CF6&issuedby=SEW."
      ],
      "metadata": {
        "deletable": false,
        "editable": false,
        "nbgrader": {
          "cell_type": "markdown",
          "checksum": "ab1d10b19246a4564923a5d15a91cf9a",
          "grade": false,
          "grade_id": "cell-8251a8dc1dba0354",
          "locked": true,
          "schema_version": 3,
          "solution": false,
          "task": false
        },
        "tags": []
      },
      "id": "3e77dfbb-90cf-463e-b9a7-62e85b221474"
    },
    {
      "cell_type": "markdown",
      "source": [
        "#### a) Natężenie ruchu rowerowego \n",
        "\n",
        "Plik raw_bike_traffic_data.csv zawiera dane na temat ruchu rowerowego na moście Fremont Bridge w Seattle.\n",
        "\n",
        "Zaimportuj zawarte w pliku dane do notatnika i utwórz na ich podstawie tablicę `bike_traffic_data` wykonaną według następujących wytycznych:\n",
        "\n",
        "- Tablica powinna zawierać wyłącznie następujące elementy:</br>\n",
        "    > Indeks: Date</br>\n",
        "    > PeriodIndex zawierający okresy czasu, w których dokonywane były zliczenia rowerzystów.\n",
        "    \n",
        "    > Kolumny: Total, East, West</br>\n",
        "    > Kolumny zawierają liczbę rowerzystów przejeżdżających przez most w poszczególnych godzinach w sumie oraz z podziałem na zachodnią i wschodnią stronę mostu.\n",
        "- Pozostaw w tablicy wyłącznie wiersze dotyczące 2022 roku.\n",
        "\n",
        "Zapisz tablicę do pliku bike_traffic_data.pkl.\n",
        "\n",
        "Wyświetl przygotowaną tablicę w taki sposób aby widoczne było po 12 pierwszych i ostatnich wierszy, a zawarte w tablicy wartości wyświetlały się bez miejsc po przecinku."
      ],
      "metadata": {
        "deletable": false,
        "editable": false,
        "nbgrader": {
          "cell_type": "markdown",
          "checksum": "036f6e3680f1c7d083ed49513256d3de",
          "grade": false,
          "grade_id": "cell-74aa0f18c872083e",
          "locked": true,
          "schema_version": 3,
          "solution": false,
          "task": false
        },
        "tags": []
      },
      "id": "b40ddb30-cba0-45be-8c74-e392a6f874c3"
    },
    {
      "cell_type": "code",
      "source": [
        "# YOUR CODE HERE\n",
        "dane = pd.read_csv(\"raw_bike_traffic_data.csv\")\n",
        "dane.Date = pd.to_datetime(dane.Date, format=\"%m/%d/%Y %I:%M:%S %p\")\n",
        "index = pd.PeriodIndex(dane.Date)\n",
        "dane.index = index\n",
        "dane.drop(\"Date\", axis=1, inplace=True)\n",
        "dane.columns = [\"Total\",\"East\",\"West\"]\n",
        "dane = dane[(dane.index >= \"2022-01-01\") & (dane.index < \"2023-01-01\")]\n",
        "dane.to_pickle(\"bike_traffic_data.pkl\")\n",
        "dane = pd.read_pickle(\"bike_traffic_data.pkl\")\n",
        "\n",
        "bike_traffic_data = dane\n",
        "\n",
        "display(pd.concat([dane.head(12), dane.tail(12)]).style.format(precision=0))"
      ],
      "outputs": [
        {
          "output_type": "display_data",
          "data": {
            "text/html": "<style type=\"text/css\">\n</style>\n<table id=\"T_dca54\">\n  <thead>\n    <tr>\n      <th class=\"blank level0\" >&nbsp;</th>\n      <th id=\"T_dca54_level0_col0\" class=\"col_heading level0 col0\" >Total</th>\n      <th id=\"T_dca54_level0_col1\" class=\"col_heading level0 col1\" >East</th>\n      <th id=\"T_dca54_level0_col2\" class=\"col_heading level0 col2\" >West</th>\n    </tr>\n    <tr>\n      <th class=\"index_name level0\" >Date</th>\n      <th class=\"blank col0\" >&nbsp;</th>\n      <th class=\"blank col1\" >&nbsp;</th>\n      <th class=\"blank col2\" >&nbsp;</th>\n    </tr>\n  </thead>\n  <tbody>\n    <tr>\n      <th id=\"T_dca54_level0_row0\" class=\"row_heading level0 row0\" >2022-01-01 00:00</th>\n      <td id=\"T_dca54_row0_col0\" class=\"data row0 col0\" >0</td>\n      <td id=\"T_dca54_row0_col1\" class=\"data row0 col1\" >0</td>\n      <td id=\"T_dca54_row0_col2\" class=\"data row0 col2\" >0</td>\n    </tr>\n    <tr>\n      <th id=\"T_dca54_level0_row1\" class=\"row_heading level0 row1\" >2022-01-01 01:00</th>\n      <td id=\"T_dca54_row1_col0\" class=\"data row1 col0\" >0</td>\n      <td id=\"T_dca54_row1_col1\" class=\"data row1 col1\" >0</td>\n      <td id=\"T_dca54_row1_col2\" class=\"data row1 col2\" >0</td>\n    </tr>\n    <tr>\n      <th id=\"T_dca54_level0_row2\" class=\"row_heading level0 row2\" >2022-01-01 02:00</th>\n      <td id=\"T_dca54_row2_col0\" class=\"data row2 col0\" >1</td>\n      <td id=\"T_dca54_row2_col1\" class=\"data row2 col1\" >0</td>\n      <td id=\"T_dca54_row2_col2\" class=\"data row2 col2\" >1</td>\n    </tr>\n    <tr>\n      <th id=\"T_dca54_level0_row3\" class=\"row_heading level0 row3\" >2022-01-01 03:00</th>\n      <td id=\"T_dca54_row3_col0\" class=\"data row3 col0\" >0</td>\n      <td id=\"T_dca54_row3_col1\" class=\"data row3 col1\" >0</td>\n      <td id=\"T_dca54_row3_col2\" class=\"data row3 col2\" >0</td>\n    </tr>\n    <tr>\n      <th id=\"T_dca54_level0_row4\" class=\"row_heading level0 row4\" >2022-01-01 04:00</th>\n      <td id=\"T_dca54_row4_col0\" class=\"data row4 col0\" >0</td>\n      <td id=\"T_dca54_row4_col1\" class=\"data row4 col1\" >0</td>\n      <td id=\"T_dca54_row4_col2\" class=\"data row4 col2\" >0</td>\n    </tr>\n    <tr>\n      <th id=\"T_dca54_level0_row5\" class=\"row_heading level0 row5\" >2022-01-01 05:00</th>\n      <td id=\"T_dca54_row5_col0\" class=\"data row5 col0\" >1</td>\n      <td id=\"T_dca54_row5_col1\" class=\"data row5 col1\" >1</td>\n      <td id=\"T_dca54_row5_col2\" class=\"data row5 col2\" >0</td>\n    </tr>\n    <tr>\n      <th id=\"T_dca54_level0_row6\" class=\"row_heading level0 row6\" >2022-01-01 06:00</th>\n      <td id=\"T_dca54_row6_col0\" class=\"data row6 col0\" >1</td>\n      <td id=\"T_dca54_row6_col1\" class=\"data row6 col1\" >1</td>\n      <td id=\"T_dca54_row6_col2\" class=\"data row6 col2\" >0</td>\n    </tr>\n    <tr>\n      <th id=\"T_dca54_level0_row7\" class=\"row_heading level0 row7\" >2022-01-01 07:00</th>\n      <td id=\"T_dca54_row7_col0\" class=\"data row7 col0\" >1</td>\n      <td id=\"T_dca54_row7_col1\" class=\"data row7 col1\" >1</td>\n      <td id=\"T_dca54_row7_col2\" class=\"data row7 col2\" >0</td>\n    </tr>\n    <tr>\n      <th id=\"T_dca54_level0_row8\" class=\"row_heading level0 row8\" >2022-01-01 08:00</th>\n      <td id=\"T_dca54_row8_col0\" class=\"data row8 col0\" >3</td>\n      <td id=\"T_dca54_row8_col1\" class=\"data row8 col1\" >3</td>\n      <td id=\"T_dca54_row8_col2\" class=\"data row8 col2\" >0</td>\n    </tr>\n    <tr>\n      <th id=\"T_dca54_level0_row9\" class=\"row_heading level0 row9\" >2022-01-01 09:00</th>\n      <td id=\"T_dca54_row9_col0\" class=\"data row9 col0\" >2</td>\n      <td id=\"T_dca54_row9_col1\" class=\"data row9 col1\" >0</td>\n      <td id=\"T_dca54_row9_col2\" class=\"data row9 col2\" >2</td>\n    </tr>\n    <tr>\n      <th id=\"T_dca54_level0_row10\" class=\"row_heading level0 row10\" >2022-01-01 10:00</th>\n      <td id=\"T_dca54_row10_col0\" class=\"data row10 col0\" >0</td>\n      <td id=\"T_dca54_row10_col1\" class=\"data row10 col1\" >0</td>\n      <td id=\"T_dca54_row10_col2\" class=\"data row10 col2\" >0</td>\n    </tr>\n    <tr>\n      <th id=\"T_dca54_level0_row11\" class=\"row_heading level0 row11\" >2022-01-01 11:00</th>\n      <td id=\"T_dca54_row11_col0\" class=\"data row11 col0\" >1</td>\n      <td id=\"T_dca54_row11_col1\" class=\"data row11 col1\" >0</td>\n      <td id=\"T_dca54_row11_col2\" class=\"data row11 col2\" >1</td>\n    </tr>\n    <tr>\n      <th id=\"T_dca54_level0_row12\" class=\"row_heading level0 row12\" >2022-12-31 12:00</th>\n      <td id=\"T_dca54_row12_col0\" class=\"data row12 col0\" >124</td>\n      <td id=\"T_dca54_row12_col1\" class=\"data row12 col1\" >63</td>\n      <td id=\"T_dca54_row12_col2\" class=\"data row12 col2\" >61</td>\n    </tr>\n    <tr>\n      <th id=\"T_dca54_level0_row13\" class=\"row_heading level0 row13\" >2022-12-31 13:00</th>\n      <td id=\"T_dca54_row13_col0\" class=\"data row13 col0\" >103</td>\n      <td id=\"T_dca54_row13_col1\" class=\"data row13 col1\" >56</td>\n      <td id=\"T_dca54_row13_col2\" class=\"data row13 col2\" >47</td>\n    </tr>\n    <tr>\n      <th id=\"T_dca54_level0_row14\" class=\"row_heading level0 row14\" >2022-12-31 14:00</th>\n      <td id=\"T_dca54_row14_col0\" class=\"data row14 col0\" >98</td>\n      <td id=\"T_dca54_row14_col1\" class=\"data row14 col1\" >46</td>\n      <td id=\"T_dca54_row14_col2\" class=\"data row14 col2\" >52</td>\n    </tr>\n    <tr>\n      <th id=\"T_dca54_level0_row15\" class=\"row_heading level0 row15\" >2022-12-31 15:00</th>\n      <td id=\"T_dca54_row15_col0\" class=\"data row15 col0\" >83</td>\n      <td id=\"T_dca54_row15_col1\" class=\"data row15 col1\" >40</td>\n      <td id=\"T_dca54_row15_col2\" class=\"data row15 col2\" >43</td>\n    </tr>\n    <tr>\n      <th id=\"T_dca54_level0_row16\" class=\"row_heading level0 row16\" >2022-12-31 16:00</th>\n      <td id=\"T_dca54_row16_col0\" class=\"data row16 col0\" >68</td>\n      <td id=\"T_dca54_row16_col1\" class=\"data row16 col1\" >28</td>\n      <td id=\"T_dca54_row16_col2\" class=\"data row16 col2\" >40</td>\n    </tr>\n    <tr>\n      <th id=\"T_dca54_level0_row17\" class=\"row_heading level0 row17\" >2022-12-31 17:00</th>\n      <td id=\"T_dca54_row17_col0\" class=\"data row17 col0\" >35</td>\n      <td id=\"T_dca54_row17_col1\" class=\"data row17 col1\" >19</td>\n      <td id=\"T_dca54_row17_col2\" class=\"data row17 col2\" >16</td>\n    </tr>\n    <tr>\n      <th id=\"T_dca54_level0_row18\" class=\"row_heading level0 row18\" >2022-12-31 18:00</th>\n      <td id=\"T_dca54_row18_col0\" class=\"data row18 col0\" >28</td>\n      <td id=\"T_dca54_row18_col1\" class=\"data row18 col1\" >15</td>\n      <td id=\"T_dca54_row18_col2\" class=\"data row18 col2\" >13</td>\n    </tr>\n    <tr>\n      <th id=\"T_dca54_level0_row19\" class=\"row_heading level0 row19\" >2022-12-31 19:00</th>\n      <td id=\"T_dca54_row19_col0\" class=\"data row19 col0\" >14</td>\n      <td id=\"T_dca54_row19_col1\" class=\"data row19 col1\" >6</td>\n      <td id=\"T_dca54_row19_col2\" class=\"data row19 col2\" >8</td>\n    </tr>\n    <tr>\n      <th id=\"T_dca54_level0_row20\" class=\"row_heading level0 row20\" >2022-12-31 20:00</th>\n      <td id=\"T_dca54_row20_col0\" class=\"data row20 col0\" >20</td>\n      <td id=\"T_dca54_row20_col1\" class=\"data row20 col1\" >13</td>\n      <td id=\"T_dca54_row20_col2\" class=\"data row20 col2\" >7</td>\n    </tr>\n    <tr>\n      <th id=\"T_dca54_level0_row21\" class=\"row_heading level0 row21\" >2022-12-31 21:00</th>\n      <td id=\"T_dca54_row21_col0\" class=\"data row21 col0\" >16</td>\n      <td id=\"T_dca54_row21_col1\" class=\"data row21 col1\" >6</td>\n      <td id=\"T_dca54_row21_col2\" class=\"data row21 col2\" >10</td>\n    </tr>\n    <tr>\n      <th id=\"T_dca54_level0_row22\" class=\"row_heading level0 row22\" >2022-12-31 22:00</th>\n      <td id=\"T_dca54_row22_col0\" class=\"data row22 col0\" >23</td>\n      <td id=\"T_dca54_row22_col1\" class=\"data row22 col1\" >15</td>\n      <td id=\"T_dca54_row22_col2\" class=\"data row22 col2\" >8</td>\n    </tr>\n    <tr>\n      <th id=\"T_dca54_level0_row23\" class=\"row_heading level0 row23\" >2022-12-31 23:00</th>\n      <td id=\"T_dca54_row23_col0\" class=\"data row23 col0\" >25</td>\n      <td id=\"T_dca54_row23_col1\" class=\"data row23 col1\" >15</td>\n      <td id=\"T_dca54_row23_col2\" class=\"data row23 col2\" >10</td>\n    </tr>\n  </tbody>\n</table>\n",
            "text/plain": "<pandas.io.formats.style.Styler at 0x5f23880>"
          },
          "metadata": {}
        }
      ],
      "execution_count": 4,
      "metadata": {
        "deletable": false,
        "nbgrader": {
          "cell_type": "code",
          "checksum": "69701381bad47b312d4a37590f131714",
          "grade": false,
          "grade_id": "cell-aa85199b5cb633d2",
          "locked": false,
          "schema_version": 3,
          "solution": true,
          "task": false
        },
        "tags": []
      },
      "id": "a1a3f1e9-3392-41a0-a73d-167b235303dd"
    },
    {
      "cell_type": "code",
      "source": [
        "### Komórka testowa\n",
        "# Test 1 Kształt tablicy\n",
        "assert bike_traffic_data.shape == (8760, 3)\n",
        "# Test 2 Kolumny\n",
        "assert len(set(list(bike_traffic_data.columns)) & set(['Total', 'East', 'West'])) == 3\n",
        "# Test 3 Indeks\n",
        "assert (bike_traffic_data.index.name == 'Date') == True\n",
        "assert isinstance(bike_traffic_data.index, pd.PeriodIndex)\n",
        "assert bike_traffic_data.index.values.min() == pd.Period('2022-01-01 00:00', 'H')\n",
        "assert bike_traffic_data.index.values.max() == pd.Period('2022-12-31 23:00', 'H')\n",
        "# Test 4 Zawartość kolumn\n",
        "assert np.all(np.isclose(bike_traffic_data[['Total', 'East', 'West']].min().values, np.array([0, 0, 0]))) == True\n",
        "assert np.all(np.isclose(bike_traffic_data[['Total', 'East', 'West']].max().values, np.array([717, 464, 635]))) == True"
      ],
      "outputs": [],
      "execution_count": 5,
      "metadata": {
        "deletable": false,
        "editable": false,
        "nbgrader": {
          "cell_type": "code",
          "checksum": "46849aa3637d7997c84fb4c840f6e852",
          "grade": true,
          "grade_id": "cell-683b0a3c6c74d0c6",
          "locked": true,
          "points": 2,
          "schema_version": 3,
          "solution": false,
          "task": false
        },
        "tags": []
      },
      "id": "e39740a0-38f2-4b64-83f3-28b3c612b28c"
    },
    {
      "cell_type": "markdown",
      "source": [
        "#### b) Pogoda\n",
        "\n",
        "Pliki 2022_01.txt, 2022_02.txt ...  2022_12.txt zawierają miesięczne raporty pogodowe (F6 Preliminary Local Climate Data Report) ze stacji NWS Seattle/Tacoma, WA.\n",
        "Wyjaśnienie wykorzystanych w raportach symboli i skrótów można znaleźć pod następującym linkiem: https://www.weather.gov/grr/climateF6explain.\n",
        "\n",
        "Zaimportuj zawarte w plikach dane do notatnika i utwórz na ich podstawie tablicę `weather_data` wykonaną według następujących wytycznych:\n",
        "\n",
        "- Tablica powinna zawierać wyłącznie następujące elementy:</br>\n",
        "    > Indeks: Date</br>\n",
        "    > PeriodIndex zawierający okresy czasu, których dotyczą dane z raportów pogodowych.</br>\n",
        "    \n",
        "    > Kolumny: W podanej niżej kolejności</br>\n",
        "    > Temperature: Min, Avg, Max</br>\n",
        "    > Precipitation: Total</br>\n",
        "    > Snow: Fall, Depth</br>\n",
        "    > Wind:  Avg speed, Max speed</br>\n",
        "    > Sky: Cloud cover</br>\n",
        "    > (Nazwa 1 poziomu: podległe jej nazwy 2 poziomu)\n",
        "- Zamień oznaczenia opadów śladowych na wartość 0.\n",
        "- Przelicz występujące w tablicy wartości do *C (temperatura), mm (opady), m/s (wiatr) i ułamków (zachmurzenie).\n",
        "\n",
        "Zapisz tablicę do pliku weather_data.pkl.\n",
        "\n",
        "Wyświetl przygotowaną tablicę w taki sposób aby widoczne było po 10 pierwszych i ostatnich wierszy, a zawarte w tablicy liczby wyświetlały się z dokładnością 2 miejsc po przecinku."
      ],
      "metadata": {
        "deletable": false,
        "editable": false,
        "nbgrader": {
          "cell_type": "markdown",
          "checksum": "cd9afa31c9c2d11fac14ee4a6ff0cbc3",
          "grade": false,
          "grade_id": "cell-573405bbd6e6471e",
          "locked": true,
          "schema_version": 3,
          "solution": false,
          "task": false
        },
        "tags": []
      },
      "id": "f24c1ec2-ae66-4ff0-b0b6-9a8c72465b1c"
    },
    {
      "cell_type": "code",
      "source": [
        "# YOUR CODE HERE\n",
        "#kolumny\n",
        "# 3, 4, 2, 7, 8 , 9, 10, 11, 15\n",
        "tuples = [(\"Temperature\", \"Min\"), (\"Temperature\",\"Avg\"), (\"Temperature\", \"Max\"), (\"Precipitation\",\"Total\"), (\"Snow\",\"Fall\"),\n",
        "           (\"Snow\",\"Depth\"), (\"Wind\",\"Avg speed\"), (\"Wind\", \"Max speed\"), (\"Sky\", \"Cloud cover\")]\n",
        "columns = pd.MultiIndex.from_tuples(tuples)\n",
        "\n",
        "weather_data = pd.DataFrame()\n",
        "for i in range(1,13):\n",
        "    if i < 10:\n",
        "        path = f\"0{i}\"\n",
        "    else:\n",
        "        path = str(i)\n",
        "    dane = pd.read_table(\"raw_weather_data/2022_\" + path + \".txt\", skiprows=18, header=None, sep=\"\\s+\")\n",
        "    number = 0\n",
        "    for index, row in dane.iterrows():\n",
        "        try:\n",
        "            int(row[0])\n",
        "        except:\n",
        "            number = index\n",
        "            break\n",
        "    dane = dane.iloc[:number,:]\n",
        "    weather_data = pd.concat([weather_data, dane])\n",
        "b = datetime.datetime(year=2022, month=1, day = 1)\n",
        "index = [b+datetime.timedelta(days=i) for i in range(365)]\n",
        "index = pd.PeriodIndex(index, freq=\"d\")\n",
        "index.name = \"Date\"\n",
        "weather_data.index = index\n",
        "weather_data = weather_data.iloc[:,[2,3,1,7,8,9,10,11,15]]\n",
        "weather_data.columns = columns\n",
        "\n",
        "# Ten nan potem wywala dalsze obliczenia ...\n",
        "weather_data.replace('M', np.nan, inplace=True)\n",
        "\n",
        "#Korekta po zadaniu 3\n",
        "#weather_data[(\"Snow\",\"Depth\")] = weather_data[(\"Snow\",\"Depth\")].fillna(0)\n",
        "\n",
        "#Po zadaniu 4 okazuje się, że jednak ta korekta nie jest dobra.\n",
        "\n",
        "weather_data.replace(\"T\", 0, inplace=True)\n",
        "weather_data = weather_data.astype(np.float64)\n",
        "weather_data.iloc[:,:3] = weather_data.iloc[:,:3].apply(lambda x: (x-32)*5/9)\n",
        "weather_data.iloc[:,3:6] = weather_data.iloc[:,3:7].apply(lambda x: (x*25.4))\n",
        "weather_data.iloc[:,-3:-1] = weather_data.iloc[:,-3:-1].apply(lambda x: x*1609.34/3600)\n",
        "weather_data.iloc[:,-1] = weather_data.iloc[:,-1].apply(lambda x: x/10)\n",
        "\n",
        "weather_data.to_pickle(\"weather_data.pkl\")\n",
        "dane = pd.read_pickle(\"weather_data.pkl\")\n",
        "weather_data = dane\n",
        "display(pd.concat([dane.head(10), dane.tail(10)]).style.format(precision=2))"
      ],
      "outputs": [
        {
          "output_type": "display_data",
          "data": {
            "text/html": "<style type=\"text/css\">\n</style>\n<table id=\"T_b45be\">\n  <thead>\n    <tr>\n      <th class=\"blank level0\" >&nbsp;</th>\n      <th id=\"T_b45be_level0_col0\" class=\"col_heading level0 col0\" colspan=\"3\">Temperature</th>\n      <th id=\"T_b45be_level0_col3\" class=\"col_heading level0 col3\" >Precipitation</th>\n      <th id=\"T_b45be_level0_col4\" class=\"col_heading level0 col4\" colspan=\"2\">Snow</th>\n      <th id=\"T_b45be_level0_col6\" class=\"col_heading level0 col6\" colspan=\"2\">Wind</th>\n      <th id=\"T_b45be_level0_col8\" class=\"col_heading level0 col8\" >Sky</th>\n    </tr>\n    <tr>\n      <th class=\"blank level1\" >&nbsp;</th>\n      <th id=\"T_b45be_level1_col0\" class=\"col_heading level1 col0\" >Min</th>\n      <th id=\"T_b45be_level1_col1\" class=\"col_heading level1 col1\" >Avg</th>\n      <th id=\"T_b45be_level1_col2\" class=\"col_heading level1 col2\" >Max</th>\n      <th id=\"T_b45be_level1_col3\" class=\"col_heading level1 col3\" >Total</th>\n      <th id=\"T_b45be_level1_col4\" class=\"col_heading level1 col4\" >Fall</th>\n      <th id=\"T_b45be_level1_col5\" class=\"col_heading level1 col5\" >Depth</th>\n      <th id=\"T_b45be_level1_col6\" class=\"col_heading level1 col6\" >Avg speed</th>\n      <th id=\"T_b45be_level1_col7\" class=\"col_heading level1 col7\" >Max speed</th>\n      <th id=\"T_b45be_level1_col8\" class=\"col_heading level1 col8\" >Cloud cover</th>\n    </tr>\n    <tr>\n      <th class=\"index_name level0\" >Date</th>\n      <th class=\"blank col0\" >&nbsp;</th>\n      <th class=\"blank col1\" >&nbsp;</th>\n      <th class=\"blank col2\" >&nbsp;</th>\n      <th class=\"blank col3\" >&nbsp;</th>\n      <th class=\"blank col4\" >&nbsp;</th>\n      <th class=\"blank col5\" >&nbsp;</th>\n      <th class=\"blank col6\" >&nbsp;</th>\n      <th class=\"blank col7\" >&nbsp;</th>\n      <th class=\"blank col8\" >&nbsp;</th>\n    </tr>\n  </thead>\n  <tbody>\n    <tr>\n      <th id=\"T_b45be_level0_row0\" class=\"row_heading level0 row0\" >2022-01-01</th>\n      <td id=\"T_b45be_row0_col0\" class=\"data row0 col0\" >-5.56</td>\n      <td id=\"T_b45be_row0_col1\" class=\"data row0 col1\" >-2.22</td>\n      <td id=\"T_b45be_row0_col2\" class=\"data row0 col2\" >1.11</td>\n      <td id=\"T_b45be_row0_col3\" class=\"data row0 col3\" >0.00</td>\n      <td id=\"T_b45be_row0_col4\" class=\"data row0 col4\" >0.00</td>\n      <td id=\"T_b45be_row0_col5\" class=\"data row0 col5\" >76.20</td>\n      <td id=\"T_b45be_row0_col6\" class=\"data row0 col6\" >3.58</td>\n      <td id=\"T_b45be_row0_col7\" class=\"data row0 col7\" >5.36</td>\n      <td id=\"T_b45be_row0_col8\" class=\"data row0 col8\" >0.80</td>\n    </tr>\n    <tr>\n      <th id=\"T_b45be_level0_row1\" class=\"row_heading level0 row1\" >2022-01-02</th>\n      <td id=\"T_b45be_row1_col0\" class=\"data row1 col0\" >-1.11</td>\n      <td id=\"T_b45be_row1_col1\" class=\"data row1 col1\" >2.78</td>\n      <td id=\"T_b45be_row1_col2\" class=\"data row1 col2\" >6.11</td>\n      <td id=\"T_b45be_row1_col3\" class=\"data row1 col3\" >20.07</td>\n      <td id=\"T_b45be_row1_col4\" class=\"data row1 col4\" >0.00</td>\n      <td id=\"T_b45be_row1_col5\" class=\"data row1 col5\" >76.20</td>\n      <td id=\"T_b45be_row1_col6\" class=\"data row1 col6\" >3.80</td>\n      <td id=\"T_b45be_row1_col7\" class=\"data row1 col7\" >8.94</td>\n      <td id=\"T_b45be_row1_col8\" class=\"data row1 col8\" >1.00</td>\n    </tr>\n    <tr>\n      <th id=\"T_b45be_level0_row2\" class=\"row_heading level0 row2\" >2022-01-03</th>\n      <td id=\"T_b45be_row2_col0\" class=\"data row2 col0\" >0.56</td>\n      <td id=\"T_b45be_row2_col1\" class=\"data row2 col1\" >2.78</td>\n      <td id=\"T_b45be_row2_col2\" class=\"data row2 col2\" >5.00</td>\n      <td id=\"T_b45be_row2_col3\" class=\"data row2 col3\" >12.45</td>\n      <td id=\"T_b45be_row2_col4\" class=\"data row2 col4\" >0.00</td>\n      <td id=\"T_b45be_row2_col5\" class=\"data row2 col5\" >0.00</td>\n      <td id=\"T_b45be_row2_col6\" class=\"data row2 col6\" >5.14</td>\n      <td id=\"T_b45be_row2_col7\" class=\"data row2 col7\" >11.62</td>\n      <td id=\"T_b45be_row2_col8\" class=\"data row2 col8\" >0.90</td>\n    </tr>\n    <tr>\n      <th id=\"T_b45be_level0_row3\" class=\"row_heading level0 row3\" >2022-01-04</th>\n      <td id=\"T_b45be_row3_col0\" class=\"data row3 col0\" >1.67</td>\n      <td id=\"T_b45be_row3_col1\" class=\"data row3 col1\" >3.89</td>\n      <td id=\"T_b45be_row3_col2\" class=\"data row3 col2\" >5.56</td>\n      <td id=\"T_b45be_row3_col3\" class=\"data row3 col3\" >5.59</td>\n      <td id=\"T_b45be_row3_col4\" class=\"data row3 col4\" >0.00</td>\n      <td id=\"T_b45be_row3_col5\" class=\"data row3 col5\" >0.00</td>\n      <td id=\"T_b45be_row3_col6\" class=\"data row3 col6\" >4.34</td>\n      <td id=\"T_b45be_row3_col7\" class=\"data row3 col7\" >9.83</td>\n      <td id=\"T_b45be_row3_col8\" class=\"data row3 col8\" >0.90</td>\n    </tr>\n    <tr>\n      <th id=\"T_b45be_level0_row4\" class=\"row_heading level0 row4\" >2022-01-05</th>\n      <td id=\"T_b45be_row4_col0\" class=\"data row4 col0\" >1.11</td>\n      <td id=\"T_b45be_row4_col1\" class=\"data row4 col1\" >2.78</td>\n      <td id=\"T_b45be_row4_col2\" class=\"data row4 col2\" >3.89</td>\n      <td id=\"T_b45be_row4_col3\" class=\"data row4 col3\" >8.38</td>\n      <td id=\"T_b45be_row4_col4\" class=\"data row4 col4\" >0.00</td>\n      <td id=\"T_b45be_row4_col5\" class=\"data row4 col5\" >0.00</td>\n      <td id=\"T_b45be_row4_col6\" class=\"data row4 col6\" >2.24</td>\n      <td id=\"T_b45be_row4_col7\" class=\"data row4 col7\" >4.47</td>\n      <td id=\"T_b45be_row4_col8\" class=\"data row4 col8\" >1.00</td>\n    </tr>\n    <tr>\n      <th id=\"T_b45be_level0_row5\" class=\"row_heading level0 row5\" >2022-01-06</th>\n      <td id=\"T_b45be_row5_col0\" class=\"data row5 col0\" >2.22</td>\n      <td id=\"T_b45be_row5_col1\" class=\"data row5 col1\" >6.11</td>\n      <td id=\"T_b45be_row5_col2\" class=\"data row5 col2\" >10.00</td>\n      <td id=\"T_b45be_row5_col3\" class=\"data row5 col3\" >50.80</td>\n      <td id=\"T_b45be_row5_col4\" class=\"data row5 col4\" >0.00</td>\n      <td id=\"T_b45be_row5_col5\" class=\"data row5 col5\" >0.00</td>\n      <td id=\"T_b45be_row5_col6\" class=\"data row5 col6\" >6.39</td>\n      <td id=\"T_b45be_row5_col7\" class=\"data row5 col7\" >10.73</td>\n      <td id=\"T_b45be_row5_col8\" class=\"data row5 col8\" >1.00</td>\n    </tr>\n    <tr>\n      <th id=\"T_b45be_level0_row6\" class=\"row_heading level0 row6\" >2022-01-07</th>\n      <td id=\"T_b45be_row6_col0\" class=\"data row6 col0\" >3.33</td>\n      <td id=\"T_b45be_row6_col1\" class=\"data row6 col1\" >6.11</td>\n      <td id=\"T_b45be_row6_col2\" class=\"data row6 col2\" >8.89</td>\n      <td id=\"T_b45be_row6_col3\" class=\"data row6 col3\" >9.65</td>\n      <td id=\"T_b45be_row6_col4\" class=\"data row6 col4\" >0.00</td>\n      <td id=\"T_b45be_row6_col5\" class=\"data row6 col5\" >0.00</td>\n      <td id=\"T_b45be_row6_col6\" class=\"data row6 col6\" >6.62</td>\n      <td id=\"T_b45be_row6_col7\" class=\"data row6 col7\" >13.41</td>\n      <td id=\"T_b45be_row6_col8\" class=\"data row6 col8\" >0.90</td>\n    </tr>\n    <tr>\n      <th id=\"T_b45be_level0_row7\" class=\"row_heading level0 row7\" >2022-01-08</th>\n      <td id=\"T_b45be_row7_col0\" class=\"data row7 col0\" >2.78</td>\n      <td id=\"T_b45be_row7_col1\" class=\"data row7 col1\" >5.00</td>\n      <td id=\"T_b45be_row7_col2\" class=\"data row7 col2\" >7.22</td>\n      <td id=\"T_b45be_row7_col3\" class=\"data row7 col3\" >0.00</td>\n      <td id=\"T_b45be_row7_col4\" class=\"data row7 col4\" >0.00</td>\n      <td id=\"T_b45be_row7_col5\" class=\"data row7 col5\" >0.00</td>\n      <td id=\"T_b45be_row7_col6\" class=\"data row7 col6\" >4.02</td>\n      <td id=\"T_b45be_row7_col7\" class=\"data row7 col7\" >7.60</td>\n      <td id=\"T_b45be_row7_col8\" class=\"data row7 col8\" >0.70</td>\n    </tr>\n    <tr>\n      <th id=\"T_b45be_level0_row8\" class=\"row_heading level0 row8\" >2022-01-09</th>\n      <td id=\"T_b45be_row8_col0\" class=\"data row8 col0\" >0.00</td>\n      <td id=\"T_b45be_row8_col1\" class=\"data row8 col1\" >5.00</td>\n      <td id=\"T_b45be_row8_col2\" class=\"data row8 col2\" >10.00</td>\n      <td id=\"T_b45be_row8_col3\" class=\"data row8 col3\" >0.00</td>\n      <td id=\"T_b45be_row8_col4\" class=\"data row8 col4\" >0.00</td>\n      <td id=\"T_b45be_row8_col5\" class=\"data row8 col5\" >0.00</td>\n      <td id=\"T_b45be_row8_col6\" class=\"data row8 col6\" >2.37</td>\n      <td id=\"T_b45be_row8_col7\" class=\"data row8 col7\" >6.71</td>\n      <td id=\"T_b45be_row8_col8\" class=\"data row8 col8\" >0.30</td>\n    </tr>\n    <tr>\n      <th id=\"T_b45be_level0_row9\" class=\"row_heading level0 row9\" >2022-01-10</th>\n      <td id=\"T_b45be_row9_col0\" class=\"data row9 col0\" >0.56</td>\n      <td id=\"T_b45be_row9_col1\" class=\"data row9 col1\" >5.00</td>\n      <td id=\"T_b45be_row9_col2\" class=\"data row9 col2\" >8.89</td>\n      <td id=\"T_b45be_row9_col3\" class=\"data row9 col3\" >6.86</td>\n      <td id=\"T_b45be_row9_col4\" class=\"data row9 col4\" >0.00</td>\n      <td id=\"T_b45be_row9_col5\" class=\"data row9 col5\" >0.00</td>\n      <td id=\"T_b45be_row9_col6\" class=\"data row9 col6\" >2.59</td>\n      <td id=\"T_b45be_row9_col7\" class=\"data row9 col7\" >6.71</td>\n      <td id=\"T_b45be_row9_col8\" class=\"data row9 col8\" >0.90</td>\n    </tr>\n    <tr>\n      <th id=\"T_b45be_level0_row10\" class=\"row_heading level0 row10\" >2022-12-22</th>\n      <td id=\"T_b45be_row10_col0\" class=\"data row10 col0\" >-7.78</td>\n      <td id=\"T_b45be_row10_col1\" class=\"data row10 col1\" >-5.56</td>\n      <td id=\"T_b45be_row10_col2\" class=\"data row10 col2\" >-3.33</td>\n      <td id=\"T_b45be_row10_col3\" class=\"data row10 col3\" >0.00</td>\n      <td id=\"T_b45be_row10_col4\" class=\"data row10 col4\" >0.00</td>\n      <td id=\"T_b45be_row10_col5\" class=\"data row10 col5\" >25.40</td>\n      <td id=\"T_b45be_row10_col6\" class=\"data row10 col6\" >5.95</td>\n      <td id=\"T_b45be_row10_col7\" class=\"data row10 col7\" >12.52</td>\n      <td id=\"T_b45be_row10_col8\" class=\"data row10 col8\" >0.70</td>\n    </tr>\n    <tr>\n      <th id=\"T_b45be_level0_row11\" class=\"row_heading level0 row11\" >2022-12-23</th>\n      <td id=\"T_b45be_row11_col0\" class=\"data row11 col0\" >-5.00</td>\n      <td id=\"T_b45be_row11_col1\" class=\"data row11 col1\" >-0.56</td>\n      <td id=\"T_b45be_row11_col2\" class=\"data row11 col2\" >3.89</td>\n      <td id=\"T_b45be_row11_col3\" class=\"data row11 col3\" >8.89</td>\n      <td id=\"T_b45be_row11_col4\" class=\"data row11 col4\" >0.00</td>\n      <td id=\"T_b45be_row11_col5\" class=\"data row11 col5\" >0.00</td>\n      <td id=\"T_b45be_row11_col6\" class=\"data row11 col6\" >4.20</td>\n      <td id=\"T_b45be_row11_col7\" class=\"data row11 col7\" >8.94</td>\n      <td id=\"T_b45be_row11_col8\" class=\"data row11 col8\" >1.00</td>\n    </tr>\n    <tr>\n      <th id=\"T_b45be_level0_row12\" class=\"row_heading level0 row12\" >2022-12-24</th>\n      <td id=\"T_b45be_row12_col0\" class=\"data row12 col0\" >2.22</td>\n      <td id=\"T_b45be_row12_col1\" class=\"data row12 col1\" >7.22</td>\n      <td id=\"T_b45be_row12_col2\" class=\"data row12 col2\" >11.67</td>\n      <td id=\"T_b45be_row12_col3\" class=\"data row12 col3\" >38.61</td>\n      <td id=\"T_b45be_row12_col4\" class=\"data row12 col4\" >0.00</td>\n      <td id=\"T_b45be_row12_col5\" class=\"data row12 col5\" >0.00</td>\n      <td id=\"T_b45be_row12_col6\" class=\"data row12 col6\" >4.78</td>\n      <td id=\"T_b45be_row12_col7\" class=\"data row12 col7\" >10.28</td>\n      <td id=\"T_b45be_row12_col8\" class=\"data row12 col8\" >1.00</td>\n    </tr>\n    <tr>\n      <th id=\"T_b45be_level0_row13\" class=\"row_heading level0 row13\" >2022-12-25</th>\n      <td id=\"T_b45be_row13_col0\" class=\"data row13 col0\" >8.33</td>\n      <td id=\"T_b45be_row13_col1\" class=\"data row13 col1\" >10.00</td>\n      <td id=\"T_b45be_row13_col2\" class=\"data row13 col2\" >11.67</td>\n      <td id=\"T_b45be_row13_col3\" class=\"data row13 col3\" >11.43</td>\n      <td id=\"T_b45be_row13_col4\" class=\"data row13 col4\" >0.00</td>\n      <td id=\"T_b45be_row13_col5\" class=\"data row13 col5\" >0.00</td>\n      <td id=\"T_b45be_row13_col6\" class=\"data row13 col6\" >2.19</td>\n      <td id=\"T_b45be_row13_col7\" class=\"data row13 col7\" >6.71</td>\n      <td id=\"T_b45be_row13_col8\" class=\"data row13 col8\" >0.90</td>\n    </tr>\n    <tr>\n      <th id=\"T_b45be_level0_row14\" class=\"row_heading level0 row14\" >2022-12-26</th>\n      <td id=\"T_b45be_row14_col0\" class=\"data row14 col0\" >7.78</td>\n      <td id=\"T_b45be_row14_col1\" class=\"data row14 col1\" >11.11</td>\n      <td id=\"T_b45be_row14_col2\" class=\"data row14 col2\" >13.89</td>\n      <td id=\"T_b45be_row14_col3\" class=\"data row14 col3\" >28.45</td>\n      <td id=\"T_b45be_row14_col4\" class=\"data row14 col4\" >0.00</td>\n      <td id=\"T_b45be_row14_col5\" class=\"data row14 col5\" >0.00</td>\n      <td id=\"T_b45be_row14_col6\" class=\"data row14 col6\" >5.01</td>\n      <td id=\"T_b45be_row14_col7\" class=\"data row14 col7\" >13.86</td>\n      <td id=\"T_b45be_row14_col8\" class=\"data row14 col8\" >1.00</td>\n    </tr>\n    <tr>\n      <th id=\"T_b45be_level0_row15\" class=\"row_heading level0 row15\" >2022-12-27</th>\n      <td id=\"T_b45be_row15_col0\" class=\"data row15 col0\" >6.67</td>\n      <td id=\"T_b45be_row15_col1\" class=\"data row15 col1\" >9.44</td>\n      <td id=\"T_b45be_row15_col2\" class=\"data row15 col2\" >11.67</td>\n      <td id=\"T_b45be_row15_col3\" class=\"data row15 col3\" >6.86</td>\n      <td id=\"T_b45be_row15_col4\" class=\"data row15 col4\" >0.00</td>\n      <td id=\"T_b45be_row15_col5\" class=\"data row15 col5\" >0.00</td>\n      <td id=\"T_b45be_row15_col6\" class=\"data row15 col6\" >7.73</td>\n      <td id=\"T_b45be_row15_col7\" class=\"data row15 col7\" >16.54</td>\n      <td id=\"T_b45be_row15_col8\" class=\"data row15 col8\" >1.00</td>\n    </tr>\n    <tr>\n      <th id=\"T_b45be_level0_row16\" class=\"row_heading level0 row16\" >2022-12-28</th>\n      <td id=\"T_b45be_row16_col0\" class=\"data row16 col0\" >5.00</td>\n      <td id=\"T_b45be_row16_col1\" class=\"data row16 col1\" >6.67</td>\n      <td id=\"T_b45be_row16_col2\" class=\"data row16 col2\" >7.78</td>\n      <td id=\"T_b45be_row16_col3\" class=\"data row16 col3\" >0.76</td>\n      <td id=\"T_b45be_row16_col4\" class=\"data row16 col4\" >0.00</td>\n      <td id=\"T_b45be_row16_col5\" class=\"data row16 col5\" >0.00</td>\n      <td id=\"T_b45be_row16_col6\" class=\"data row16 col6\" >5.77</td>\n      <td id=\"T_b45be_row16_col7\" class=\"data row16 col7\" >12.52</td>\n      <td id=\"T_b45be_row16_col8\" class=\"data row16 col8\" >0.80</td>\n    </tr>\n    <tr>\n      <th id=\"T_b45be_level0_row17\" class=\"row_heading level0 row17\" >2022-12-29</th>\n      <td id=\"T_b45be_row17_col0\" class=\"data row17 col0\" >5.00</td>\n      <td id=\"T_b45be_row17_col1\" class=\"data row17 col1\" >6.67</td>\n      <td id=\"T_b45be_row17_col2\" class=\"data row17 col2\" >7.78</td>\n      <td id=\"T_b45be_row17_col3\" class=\"data row17 col3\" >8.89</td>\n      <td id=\"T_b45be_row17_col4\" class=\"data row17 col4\" >0.00</td>\n      <td id=\"T_b45be_row17_col5\" class=\"data row17 col5\" >0.00</td>\n      <td id=\"T_b45be_row17_col6\" class=\"data row17 col6\" >2.77</td>\n      <td id=\"T_b45be_row17_col7\" class=\"data row17 col7\" >7.60</td>\n      <td id=\"T_b45be_row17_col8\" class=\"data row17 col8\" >1.00</td>\n    </tr>\n    <tr>\n      <th id=\"T_b45be_level0_row18\" class=\"row_heading level0 row18\" >2022-12-30</th>\n      <td id=\"T_b45be_row18_col0\" class=\"data row18 col0\" >5.56</td>\n      <td id=\"T_b45be_row18_col1\" class=\"data row18 col1\" >8.89</td>\n      <td id=\"T_b45be_row18_col2\" class=\"data row18 col2\" >11.67</td>\n      <td id=\"T_b45be_row18_col3\" class=\"data row18 col3\" >9.14</td>\n      <td id=\"T_b45be_row18_col4\" class=\"data row18 col4\" >0.00</td>\n      <td id=\"T_b45be_row18_col5\" class=\"data row18 col5\" >0.00</td>\n      <td id=\"T_b45be_row18_col6\" class=\"data row18 col6\" >6.44</td>\n      <td id=\"T_b45be_row18_col7\" class=\"data row18 col7\" >11.62</td>\n      <td id=\"T_b45be_row18_col8\" class=\"data row18 col8\" >0.90</td>\n    </tr>\n    <tr>\n      <th id=\"T_b45be_level0_row19\" class=\"row_heading level0 row19\" >2022-12-31</th>\n      <td id=\"T_b45be_row19_col0\" class=\"data row19 col0\" >6.11</td>\n      <td id=\"T_b45be_row19_col1\" class=\"data row19 col1\" >7.78</td>\n      <td id=\"T_b45be_row19_col2\" class=\"data row19 col2\" >9.44</td>\n      <td id=\"T_b45be_row19_col3\" class=\"data row19 col3\" >0.25</td>\n      <td id=\"T_b45be_row19_col4\" class=\"data row19 col4\" >0.00</td>\n      <td id=\"T_b45be_row19_col5\" class=\"data row19 col5\" >0.00</td>\n      <td id=\"T_b45be_row19_col6\" class=\"data row19 col6\" >4.47</td>\n      <td id=\"T_b45be_row19_col7\" class=\"data row19 col7\" >9.39</td>\n      <td id=\"T_b45be_row19_col8\" class=\"data row19 col8\" >0.90</td>\n    </tr>\n  </tbody>\n</table>\n",
            "text/plain": "<pandas.io.formats.style.Styler at 0x5f52070>"
          },
          "metadata": {}
        }
      ],
      "execution_count": 6,
      "metadata": {
        "deletable": false,
        "nbgrader": {
          "cell_type": "code",
          "checksum": "7672db233c633d96ab05f5f5dd5e7f3b",
          "grade": false,
          "grade_id": "cell-186c2f35c4f9aca6",
          "locked": false,
          "schema_version": 3,
          "solution": true,
          "task": false
        },
        "tags": []
      },
      "id": "b6a63e4b-3065-4aab-8ae3-7859d3471bf9"
    },
    {
      "cell_type": "code",
      "source": [
        "### Komórka testowa\n",
        "# Test 1 Kształt tablicy\n",
        "assert weather_data.shape == (365, 9)\n",
        "# Test 2 Kolumny\n",
        "assert len(set(list(weather_data.columns)) & set([('Temperature', 'Min'), ('Temperature', 'Avg'), ('Temperature', 'Max'), ('Precipitation', 'Total'),\n",
        "            ('Snow', 'Fall'), ('Snow', 'Depth'), ('Wind', 'Avg speed'), ('Wind', 'Max speed'), ('Sky', 'Cloud cover')])) == 9\n",
        "# Test 3 Indeks\n",
        "assert (weather_data.index.name == 'Date') == True\n",
        "assert isinstance(weather_data.index, pd.PeriodIndex) == True\n",
        "assert weather_data.index.values.min() == pd.Period('2022-01-01', 'D')\n",
        "assert weather_data.index.values.max() == pd.Period('2022-12-31', 'D')\n",
        "# Test 4 Zawartość kolumn\n",
        "assert np.all(np.isclose(weather_data.min().values, np.array([-7.77777778, -5.55555556, -3.33333333, 0., 0., 0., 0.89407778, 3.12927222, 0.]))) == True\n",
        "assert np.all(np.isclose(weather_data.max().values, np.array([20., 26.66666667, 35., 75.438, 66.04, 76.2, 8.31492333, 16.54043889, 1.]))) == True"
      ],
      "outputs": [],
      "execution_count": 7,
      "metadata": {
        "deletable": false,
        "editable": false,
        "nbgrader": {
          "cell_type": "code",
          "checksum": "1d099eab90198a9210294c9187ad092e",
          "grade": true,
          "grade_id": "cell-e70d426962ca7e21",
          "locked": true,
          "points": 8,
          "schema_version": 3,
          "solution": false,
          "task": false
        },
        "tags": []
      },
      "id": "c7778655-5942-4aa7-b44f-eb9bef4f0a5c"
    }
  ],
  "metadata": {
    "kernelspec": {
      "name": "python",
      "language": "python",
      "display_name": "Pyolite (preview)"
    },
    "language_info": {
      "codemirror_mode": {
        "name": "python",
        "version": 3
      },
      "file_extension": ".py",
      "mimetype": "text/x-python",
      "name": "python",
      "nbconvert_exporter": "python",
      "pygments_lexer": "ipython3",
      "version": "3.8"
    },
    "nteract": {
      "version": "nteract-front-end@1.0.0"
    },
    "kernel_info": {
      "name": "python"
    }
  },
  "nbformat": 4,
  "nbformat_minor": 5
}